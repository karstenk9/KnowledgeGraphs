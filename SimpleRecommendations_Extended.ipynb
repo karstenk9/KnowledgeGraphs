{
 "cells": [
  {
   "cell_type": "code",
   "execution_count": 1,
   "metadata": {
    "pycharm": {
     "name": "#%%\n"
    }
   },
   "outputs": [],
   "source": [
    "#!pip install SPARQLWrapper"
   ]
  },
  {
   "cell_type": "code",
   "execution_count": 2,
   "metadata": {
    "pycharm": {
     "name": "#%%\n"
    }
   },
   "outputs": [],
   "source": [
    "from SPARQLWrapper import SPARQLWrapper, JSON\n",
    "import csv"
   ]
  },
  {
   "cell_type": "code",
   "execution_count": 3,
   "metadata": {
    "pycharm": {
     "name": "#%%\n"
    }
   },
   "outputs": [],
   "source": [
    "LMDB_PREFIX = \"<https://triplydb.com/Triply/linkedmdb/vocab/>\"\n",
    "SPARQL_ENDPOINT = \"https://api.triplydb.com/datasets/Triply/linkedmdb/services/linkedmdb/sparql\"\n",
    "PROPERTY_NAMES = [\"actor\", \"director\", \"genre\", \"cinematographer\", \"producer\", \"editor\", \"writer\"] # must be from lmdb namespace"
   ]
  },
  {
   "cell_type": "code",
   "execution_count": 4,
   "metadata": {
    "pycharm": {
     "name": "#%%\n"
    }
   },
   "outputs": [],
   "source": [
    "def get_movie_properties(movie):\n",
    "\n",
    "    select_line = (\" \").join([\"?\"+prop for prop in PROPERTY_NAMES])\n",
    "    where_clause_lines = [f\"Optional{{{movie} lmdb:{prop} ?{prop} . }}\" for prop in PROPERTY_NAMES]\n",
    "    where_clause = (\"\\n\").join(where_clause_lines)\n",
    "\n",
    "    query_str = f\"\"\"\n",
    "    PREFIX lmdb: {LMDB_PREFIX}\n",
    "\n",
    "    SELECT {select_line}\n",
    "    WHERE {{\n",
    "        {where_clause}\n",
    "    }}\n",
    "    \"\"\"\n",
    "\n",
    "    sparql = SPARQLWrapper(SPARQL_ENDPOINT)\n",
    "    sparql.setQuery(query_str)\n",
    "    sparql.setReturnFormat(JSON)\n",
    "    results = sparql.query().convert()\n",
    "\n",
    "    properties = {prop: set() for prop in PROPERTY_NAMES}\n",
    "\n",
    "    for result in results[\"results\"][\"bindings\"]:\n",
    "        for prop in PROPERTY_NAMES:\n",
    "            if prop in result:\n",
    "                properties[prop].add(result[prop][\"value\"])\n",
    "\n",
    "    return properties"
   ]
  },
  {
   "cell_type": "code",
   "execution_count": 5,
   "metadata": {
    "pycharm": {
     "name": "#%%\n"
    }
   },
   "outputs": [],
   "source": [
    "def get_movie_recommendations(properties, movie):    \n",
    "    property_lines = []\n",
    "    for prop, values in properties.items():\n",
    "        for i, value in enumerate(values):\n",
    "            property_lines.append(f\"\"\"\n",
    "          {{\n",
    "            ?movie lmdb:{prop} <{value}> .\n",
    "            BIND(\"{prop}{i}\" as ?matchedProperty)\n",
    "          }}\"\"\")\n",
    "    property_lines_combined = (\"\\nUNION\\n\").join(property_lines)\n",
    "\n",
    "    query_str = f\"\"\"\n",
    "    PREFIX lmdb: {LMDB_PREFIX}\n",
    "\n",
    "    SELECT ?movie ?title ?year (GROUP_CONCAT(DISTINCT ?directorName; SEPARATOR=\", \") AS ?directors) (COUNT(DISTINCT ?matchedProperty) as ?score)\n",
    "    WHERE {{\n",
    "      ?movie a lmdb:Film .\n",
    "      ?movie <http://purl.org/dc/terms/title> ?title .\n",
    "      ?base_movie <http://purl.org/dc/terms/title> ?base_title\n",
    "      {property_lines_combined}\n",
    "      ?movie lmdb:director ?director .\n",
    "      ?director lmdb:director_name ?directorName .\n",
    "      ?movie <http://purl.org/dc/terms/date> ?date .\n",
    "      BIND(SUBSTR(?date, 1, 4) AS ?year) .\n",
    "      FILTER(?base_movie = {movie} && ?title != ?base_title)\n",
    "    }}\n",
    "    GROUP BY ?movie ?title ?year ?directors\n",
    "    ORDER BY DESC(?score)\n",
    "    LIMIT 12\n",
    "    \"\"\"\n",
    "\n",
    "    sparql = SPARQLWrapper(SPARQL_ENDPOINT)\n",
    "    sparql.setQuery(query_str)\n",
    "    sparql.setMethod('POST')\n",
    "    sparql.setReturnFormat(JSON)\n",
    "    results = sparql.query().convert()\n",
    "\n",
    "    recommendations = []\n",
    "    for result in results[\"results\"][\"bindings\"]:\n",
    "        movie_id = result[\"movie\"][\"value\"].split('/')[-1]\n",
    "        movie_title = result[\"title\"][\"value\"]\n",
    "        movie_director = result[\"directors\"][\"value\"]\n",
    "        movie_year = result[\"year\"][\"value\"]\n",
    "        score = result[\"score\"][\"value\"]\n",
    "        recommendations.append({\"movie_id\": movie_id, \"movie_title\": movie_title, \"movie_director\": movie_director, \"movie_year\": movie_year, \"score\": score})\n",
    "\n",
    "    return recommendations"
   ]
  },
  {
   "cell_type": "code",
   "execution_count": 6,
   "metadata": {},
   "outputs": [],
   "source": [
    "def recommend_movies(movie_id):\n",
    "    movie = f\"<https://triplydb.com/Triply/linkedmdb/id/film/{movie_id}>\"\n",
    "    properties = get_movie_properties(movie)\n",
    "    similar_movies = get_movie_recommendations(properties, movie)\n",
    "    return similar_movies\n",
    "        \n",
    "def print_movies(movie_list):\n",
    "    print(\"Similar Movies:\")\n",
    "    for movie in movie_list:\n",
    "        print(f\"Movie ID: {movie['movie_id']}, Movie Title: {movie['movie_title']}, Score: {movie['score']}\")"
   ]
  },
  {
   "cell_type": "code",
   "execution_count": 7,
   "metadata": {},
   "outputs": [
    {
     "name": "stdout",
     "output_type": "stream",
     "text": [
      "Similar Movies:\n",
      "Movie ID: 33, Movie Title: Terminator 2: Judgment Day, Score: 8\n",
      "Movie ID: 15605, Movie Title: Revolutionary Road, Score: 7\n",
      "Movie ID: 6220, Movie Title: Avatar, Score: 7\n",
      "Movie ID: 38324, Movie Title: True Lies, Score: 6\n",
      "Movie ID: 556, Movie Title: Aliens, Score: 6\n",
      "Movie ID: 2235, Movie Title: Strange Days, Score: 5\n",
      "Movie ID: 3116, Movie Title: Poetic Justice, Score: 4\n",
      "Movie ID: 1033, Movie Title: Tombstone, Score: 4\n",
      "Movie ID: 3604, Movie Title: Little Children, Score: 4\n",
      "Movie ID: 3296, Movie Title: T2 3-D: Battle Across Time, Score: 4\n",
      "Movie ID: 37248, Movie Title: True Lies, Score: 4\n",
      "Movie ID: 4673, Movie Title: Expedition: Bismarck, Score: 4\n"
     ]
    }
   ],
   "source": [
    "similar_movies = recommend_movies(72)\n",
    "print_movies(similar_movies)"
   ]
  },
  {
   "cell_type": "code",
   "execution_count": 8,
   "metadata": {},
   "outputs": [],
   "source": [
    "movie_list = []\n",
    "\n",
    "with open('data/available_src_movies.csv') as file:\n",
    "    reader = csv.reader(file)\n",
    "    next(reader)\n",
    "    for row in reader:\n",
    "        movie_list.append(row[0])"
   ]
  },
  {
   "cell_type": "code",
   "execution_count": 9,
   "metadata": {},
   "outputs": [],
   "source": [
    "## Getting Movie IDs\n",
    "## Problem: Some movies and directors have multiple ids.\n",
    "## For movies, they often have one id >= 38,000 and one < 38,000\n",
    "## Tentative solution: Only consider ids < 38,000\n",
    "def get_movie_id(movie_title):\n",
    "    query_str = f\"\"\"\n",
    "    PREFIX lmdb: {LMDB_PREFIX}\n",
    "\n",
    "    SELECT ?movie\n",
    "    WHERE {{\n",
    "      ?movie a lmdb:Film .\n",
    "      ?movie <http://purl.org/dc/terms/title> \"{movie_title}\" .\n",
    "      ?movie <http://purl.org/dc/terms/date> ?date .\n",
    "      BIND(SUBSTR(?date, 1, 4) AS ?year) .\n",
    "      FILTER NOT EXISTS {{\n",
    "        ?otherMovie a lmdb:Film .\n",
    "        ?otherMovie <http://purl.org/dc/terms/title> \"{movie_title}\" .\n",
    "        ?otherMovie <http://purl.org/dc/terms/date> ?otherDate .\n",
    "        BIND(SUBSTR(?otherDate, 1, 4) AS ?otherYear) .\n",
    "        FILTER (?otherYear = ?year && ?otherMovie < ?movie)\n",
    "        }}\n",
    "    }}\n",
    "    \"\"\"\n",
    "    \n",
    "    sparql = SPARQLWrapper(SPARQL_ENDPOINT)\n",
    "    sparql.setQuery(query_str)\n",
    "    sparql.setReturnFormat(JSON)\n",
    "    results = sparql.query().convert()\n",
    "    \n",
    "    movie_ids = []\n",
    "    for result in results[\"results\"][\"bindings\"]:\n",
    "        movie_id = result[\"movie\"][\"value\"].split('/')[-1]\n",
    "        movie_ids.append(movie_id)\n",
    "\n",
    "    return movie_ids"
   ]
  },
  {
   "cell_type": "code",
   "execution_count": 10,
   "metadata": {},
   "outputs": [
    {
     "name": "stdout",
     "output_type": "stream",
     "text": [
      "Manual correction required for 'Rebecca' with ids: ['11611', '2141'].\n",
      "Manual correction required for 'Ben-Hur' with ids: ['2243', '2245'].\n",
      "Manual correction required for 'The Great Escape' with ids: ['38824', '75494'].\n",
      "Manual correction required for 'Bicycle Thieves' with ids: ['26568', '86895'].\n",
      "Manual correction required for 'Heat' with ids: ['74985', '53', '9200', '76365', '77208'].\n",
      "Manual correction required for 'High and Low' with ids: ['29381', '94309'].\n"
     ]
    }
   ],
   "source": [
    "movie_id_dic = {}\n",
    "\n",
    "for movie in movie_list:\n",
    "    found_ids = get_movie_id(movie)\n",
    "    if (len(found_ids) == 1):\n",
    "        movie_id_dic[movie] = found_ids[0]\n",
    "    else:\n",
    "        print(f\"Manual correction required for '{movie}' with ids: {found_ids}.\")\n",
    "        movie_id_dic[movie] = found_ids"
   ]
  },
  {
   "cell_type": "code",
   "execution_count": 11,
   "metadata": {},
   "outputs": [],
   "source": [
    "## Manual correction\n",
    "movie_id_dic[\"Rebecca\"] = '2141'\n",
    "movie_id_dic[\"Ben-Hur\"] = '2245'\n",
    "movie_id_dic[\"The Great Escape\"] = '38824'\n",
    "movie_id_dic[\"Bicycle Thieves\"] = '26568'\n",
    "movie_id_dic[\"Heat\"] = '53'\n",
    "movie_id_dic[\"High and Low\"] = '29381'"
   ]
  },
  {
   "cell_type": "code",
   "execution_count": 12,
   "metadata": {},
   "outputs": [
    {
     "name": "stdout",
     "output_type": "stream",
     "text": [
      "Finished\n"
     ]
    }
   ],
   "source": [
    "## Create recommendations and write in csv file\n",
    "\n",
    "with open('data/available_src_movies_recs.csv', 'w', newline='') as file:\n",
    "    writer = csv.writer(file, delimiter=',')\n",
    "    for movie_title, movie_id in movie_id_dic.items():\n",
    "        recs = recommend_movies(movie_id)\n",
    "        line = [movie_title]\n",
    "        for rec in recs:\n",
    "            line.append(rec['movie_title'])\n",
    "        writer.writerow(line)\n",
    "    print(\"Finished\")"
   ]
  },
  {
   "cell_type": "code",
   "execution_count": null,
   "metadata": {},
   "outputs": [],
   "source": []
  }
 ],
 "metadata": {
  "kernelspec": {
   "display_name": "Python 3 (ipykernel)",
   "language": "python",
   "name": "python3"
  },
  "language_info": {
   "codemirror_mode": {
    "name": "ipython",
    "version": 3
   },
   "file_extension": ".py",
   "mimetype": "text/x-python",
   "name": "python",
   "nbconvert_exporter": "python",
   "pygments_lexer": "ipython3",
   "version": "3.11.4"
  }
 },
 "nbformat": 4,
 "nbformat_minor": 1
}
