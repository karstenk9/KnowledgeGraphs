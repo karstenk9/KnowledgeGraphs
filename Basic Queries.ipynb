{
 "cells": [
  {
   "cell_type": "markdown",
   "id": "b0d4cfce",
   "metadata": {},
   "source": [
    "# Project\n",
    "## Loading The Extension\n",
    "You must run the following cell in order to enable the extension"
   ]
  },
  {
   "cell_type": "code",
   "execution_count": 1,
   "id": "a3b005f8",
   "metadata": {},
   "outputs": [
    {
     "data": {
      "application/javascript": [
       "\n",
       "    if (typeof IPython !== \"undefined\") {\n",
       "        IPython.CodeCell.options_default.highlight_modes['application/sparql-query'] = {'reg':[/^%%rdf sparql/]};\n",
       "        IPython.CodeCell.options_default.highlight_modes['text/turtle'] = {'reg':[/^%%rdf turtle/, /^%%rdf shex/]};\n",
       "        IPython.CodeCell.options_default.highlight_modes['application/ld+json'] = {'reg':[/^%%rdf json-ld/]};\n",
       "        IPython.notebook.get_cells().map(function(cell){ if (cell.cell_type == 'code'){ cell.auto_highlight(); } });\n",
       "    }\n",
       "    "
      ]
     },
     "metadata": {},
     "output_type": "display_data"
    }
   ],
   "source": [
    "%reload_ext jupyter-rdfify"
   ]
  },
  {
   "cell_type": "markdown",
   "id": "e1142030",
   "metadata": {},
   "source": [
    "## Quering for Movies"
   ]
  },
  {
   "cell_type": "markdown",
   "id": "5b4abe93",
   "metadata": {},
   "source": [
    "### Finding Movies by Actor"
   ]
  },
  {
   "cell_type": "code",
   "execution_count": 2,
   "id": "ae5c636e",
   "metadata": {},
   "outputs": [
    {
     "data": {
      "text/html": [
       "<table><tr><th>title</th></tr><tr><td>The Fabulous Baker Boys</td></tr><tr><td>Major Payne</td></tr><tr><td>Apocalypse Now Redux</td></tr><tr><td>Apocalypse Now</td></tr><tr><td>Get on the Bus</td></tr><tr><td>Rookie of the Year</td></tr><tr><td>Malcolm X</td></tr></table>"
      ],
      "text/plain": [
       "<IPython.core.display.HTML object>"
      ]
     },
     "metadata": {},
     "output_type": "display_data"
    }
   ],
   "source": [
    "%%rdf sparql --endpoint https://api.triplydb.com/datasets/Triply/linkedmdb/services/linkedmdb/sparql\n",
    "PREFIX rdf: <http://www.w3.org/1999/02/22-rdf-syntax-ns#>\n",
    "PREFIX rdfs: <http://www.w3.org/2000/01/rdf-schema#>\n",
    "PREFIX lmdb: <https://triplydb.com/Triply/linkedmdb/vocab/>\n",
    "PREFIX actor: <https://triplydb.com/Triply/linkedmdb/id/actor/>\n",
    "PREFIX dc: <http://purl.org/dc/terms/>\n",
    "\n",
    "SELECT DISTINCT ?title\n",
    "WHERE {\n",
    "    ?movie lmdb:actor ?actor .\n",
    "    ?actor lmdb:actor_name \"Albert Hall\" .\n",
    "    ?movie dc:title ?title .\n",
    "}"
   ]
  },
  {
   "cell_type": "markdown",
   "id": "1bb8091c",
   "metadata": {},
   "source": [
    "### Finding Movies by Title"
   ]
  },
  {
   "cell_type": "code",
   "execution_count": 3,
   "id": "f9e74cce",
   "metadata": {},
   "outputs": [
    {
     "data": {
      "text/html": [
       "<table><tr><th>movie</th><th>date</th><th>director</th><th>director_name</th></tr><tr><td>&lt;https://triplydb.com/Triply/linkedmdb/id/film/3247&gt;</td><td>1943,1943-11-10</td><td>&lt;https://triplydb.com/Triply/linkedmdb/id/director/2623&gt;</td><td>Werner Klingler</td></tr><tr><td>&lt;https://triplydb.com/Triply/linkedmdb/id/film/3247&gt;</td><td>1943,1943-11-10</td><td>&lt;https://triplydb.com/Triply/linkedmdb/id/director/2624&gt;</td><td>Herbert Selpin</td></tr><tr><td>&lt;https://triplydb.com/Triply/linkedmdb/id/film/72&gt;</td><td>1997-12-19</td><td>&lt;https://triplydb.com/Triply/linkedmdb/id/director/5617&gt;</td><td>James Cameron</td></tr><tr><td>&lt;https://triplydb.com/Triply/linkedmdb/id/film/2045&gt;</td><td>1953-04-16</td><td>&lt;https://triplydb.com/Triply/linkedmdb/id/director/5734&gt;</td><td>Jean Negulesco</td></tr><tr><td>&lt;https://triplydb.com/Triply/linkedmdb/id/film/2807&gt;</td><td>1996,1996-11-17</td><td>&lt;https://triplydb.com/Triply/linkedmdb/id/director/7449&gt;</td><td>Robert Lieberman</td></tr><tr><td>&lt;https://triplydb.com/Triply/linkedmdb/id/film/72&gt;</td><td>1997-12-19</td><td>&lt;https://triplydb.com/Triply/linkedmdb/id/director/8424&gt;</td><td>James Cameron</td></tr><tr><td>&lt;https://triplydb.com/Triply/linkedmdb/id/film/2045&gt;</td><td>1953-04-16</td><td>&lt;https://triplydb.com/Triply/linkedmdb/id/director/8978&gt;</td><td>Jean Negulesco</td></tr><tr><td>&lt;https://triplydb.com/Triply/linkedmdb/id/film/2807&gt;</td><td>1996,1996-11-17</td><td>&lt;https://triplydb.com/Triply/linkedmdb/id/director/9446&gt;</td><td>Robert Lieberman</td></tr></table>"
      ],
      "text/plain": [
       "<IPython.core.display.HTML object>"
      ]
     },
     "metadata": {},
     "output_type": "display_data"
    }
   ],
   "source": [
    "%%rdf sparql --endpoint https://api.triplydb.com/datasets/Triply/linkedmdb/services/linkedmdb/sparql\n",
    "PREFIX rdf: <http://www.w3.org/1999/02/22-rdf-syntax-ns#>\n",
    "PREFIX rdfs: <http://www.w3.org/2000/01/rdf-schema#>\n",
    "PREFIX lmdb: <https://triplydb.com/Triply/linkedmdb/vocab/>\n",
    "PREFIX actor: <https://triplydb.com/Triply/linkedmdb/id/actor/>\n",
    "PREFIX dc: <http://purl.org/dc/terms/>\n",
    "\n",
    "SELECT *\n",
    "WHERE {\n",
    "    ?movie dc:title \"Titanic\" .\n",
    "    ?movie dc:date ?date .\n",
    "    ?movie lmdb:director ?director .\n",
    "    ?director lmdb:director_name ?director_name .\n",
    "}"
   ]
  },
  {
   "cell_type": "markdown",
   "id": "bddeac45",
   "metadata": {},
   "source": [
    "## Quering for similar Movies"
   ]
  },
  {
   "cell_type": "markdown",
   "id": "b843294b",
   "metadata": {},
   "source": [
    "### Attributes that could be used\n",
    "- Release Date\n",
    "- Subject\n",
    "- Genre\n",
    "- Actors\n",
    "- Director\n",
    "- Country\n",
    "- Cinematographer\n",
    "- Editor\n",
    "- Producer\n",
    "- Writer\n",
    "- Language"
   ]
  },
  {
   "cell_type": "markdown",
   "id": "5df948c2",
   "metadata": {},
   "source": [
    "### Finding Movies with similar actors and same director"
   ]
  },
  {
   "cell_type": "code",
   "execution_count": 4,
   "id": "9c2a00df",
   "metadata": {},
   "outputs": [
    {
     "data": {
      "text/html": [
       "<table><tr><th>title</th></tr><tr><td>Boy on a Dolphin</td></tr><tr><td>Three Coins in the Fountain</td></tr><tr><td>Daddy Long Legs</td></tr><tr><td>Woman's World</td></tr><tr><td>The Best of Everything</td></tr><tr><td>All I Want for Christmas</td></tr><tr><td>Titanic Special Edition DVD</td></tr><tr><td>Ghosts of the Abyss</td></tr><tr><td>Aliens</td></tr><tr><td>True Lies</td></tr><tr><td>The Terminator</td></tr></table>"
      ],
      "text/plain": [
       "<IPython.core.display.HTML object>"
      ]
     },
     "metadata": {},
     "output_type": "display_data"
    }
   ],
   "source": [
    "%%rdf sparql --endpoint https://api.triplydb.com/datasets/Triply/linkedmdb/services/linkedmdb/sparql\n",
    "PREFIX rdf: <http://www.w3.org/1999/02/22-rdf-syntax-ns#>\n",
    "PREFIX rdfs: <http://www.w3.org/2000/01/rdf-schema#>\n",
    "PREFIX lmdb: <https://triplydb.com/Triply/linkedmdb/vocab/>\n",
    "PREFIX actor: <https://triplydb.com/Triply/linkedmdb/id/actor/>\n",
    "PREFIX dc: <http://purl.org/dc/terms/>\n",
    "\n",
    "SELECT DISTINCT ?title\n",
    "WHERE {\n",
    "    ?movie dc:title \"Titanic\" ;\n",
    "           lmdb:actor ?actor ;\n",
    "           lmdb:director ?director .\n",
    "    ?movie2 lmdb:actor ?actor ;\n",
    "            lmdb:director ?director ;\n",
    "            dc:title ?title .\n",
    "    FILTER(?movie != ?movie2)\n",
    "}"
   ]
  },
  {
   "cell_type": "code",
   "execution_count": null,
   "id": "d167027c",
   "metadata": {},
   "outputs": [],
   "source": []
  }
 ],
 "metadata": {
  "kernelspec": {
   "display_name": "Python 3 (ipykernel)",
   "language": "python",
   "name": "python3"
  },
  "language_info": {
   "codemirror_mode": {
    "name": "ipython",
    "version": 3
   },
   "file_extension": ".py",
   "mimetype": "text/x-python",
   "name": "python",
   "nbconvert_exporter": "python",
   "pygments_lexer": "ipython3",
   "version": "3.11.4"
  }
 },
 "nbformat": 4,
 "nbformat_minor": 5
}
