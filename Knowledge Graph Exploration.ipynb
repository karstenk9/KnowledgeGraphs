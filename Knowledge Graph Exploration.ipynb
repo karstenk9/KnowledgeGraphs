{
 "cells": [
  {
   "cell_type": "code",
   "execution_count": 1,
   "id": "88af0fcd",
   "metadata": {},
   "outputs": [
    {
     "data": {
      "application/javascript": [
       "\n",
       "    if (typeof IPython !== \"undefined\") {\n",
       "        IPython.CodeCell.options_default.highlight_modes['application/sparql-query'] = {'reg':[/^%%rdf sparql/]};\n",
       "        IPython.CodeCell.options_default.highlight_modes['text/turtle'] = {'reg':[/^%%rdf turtle/, /^%%rdf shex/]};\n",
       "        IPython.CodeCell.options_default.highlight_modes['application/ld+json'] = {'reg':[/^%%rdf json-ld/]};\n",
       "        IPython.notebook.get_cells().map(function(cell){ if (cell.cell_type == 'code'){ cell.auto_highlight(); } });\n",
       "    }\n",
       "    "
      ]
     },
     "metadata": {},
     "output_type": "display_data"
    }
   ],
   "source": [
    "%reload_ext jupyter-rdfify"
   ]
  },
  {
   "cell_type": "markdown",
   "id": "43d99940",
   "metadata": {},
   "source": [
    "### Analyzing amount of movies per year"
   ]
  },
  {
   "cell_type": "code",
   "execution_count": 2,
   "id": "dc65e2ae",
   "metadata": {},
   "outputs": [
    {
     "data": {
      "text/html": [
       "<table><tr><th>year</th><th>amountMovies</th></tr><tr><td>None</td><td>13174^^http://www.w3.org/2001/XMLSchema#integer</td></tr><tr><td>/gui</td><td>2^^http://www.w3.org/2001/XMLSchema#integer</td></tr><tr><td>1004</td><td>1^^http://www.w3.org/2001/XMLSchema#integer</td></tr><tr><td>1888</td><td>2^^http://www.w3.org/2001/XMLSchema#integer</td></tr><tr><td>1889</td><td>1^^http://www.w3.org/2001/XMLSchema#integer</td></tr><tr><td>1891</td><td>2^^http://www.w3.org/2001/XMLSchema#integer</td></tr><tr><td>1892</td><td>4^^http://www.w3.org/2001/XMLSchema#integer</td></tr><tr><td>1893</td><td>2^^http://www.w3.org/2001/XMLSchema#integer</td></tr><tr><td>1894</td><td>9^^http://www.w3.org/2001/XMLSchema#integer</td></tr><tr><td>1895</td><td>15^^http://www.w3.org/2001/XMLSchema#integer</td></tr><tr><td>1896</td><td>24^^http://www.w3.org/2001/XMLSchema#integer</td></tr><tr><td>1897</td><td>6^^http://www.w3.org/2001/XMLSchema#integer</td></tr><tr><td>1898</td><td>19^^http://www.w3.org/2001/XMLSchema#integer</td></tr><tr><td>1899</td><td>5^^http://www.w3.org/2001/XMLSchema#integer</td></tr><tr><td>1900</td><td>13^^http://www.w3.org/2001/XMLSchema#integer</td></tr><tr><td>1901</td><td>12^^http://www.w3.org/2001/XMLSchema#integer</td></tr><tr><td>1902</td><td>10^^http://www.w3.org/2001/XMLSchema#integer</td></tr><tr><td>1903</td><td>7^^http://www.w3.org/2001/XMLSchema#integer</td></tr><tr><td>1904</td><td>6^^http://www.w3.org/2001/XMLSchema#integer</td></tr><tr><td>1905</td><td>6^^http://www.w3.org/2001/XMLSchema#integer</td></tr><tr><td>1906</td><td>7^^http://www.w3.org/2001/XMLSchema#integer</td></tr><tr><td>1907</td><td>21^^http://www.w3.org/2001/XMLSchema#integer</td></tr><tr><td>1908</td><td>14^^http://www.w3.org/2001/XMLSchema#integer</td></tr><tr><td>1909</td><td>20^^http://www.w3.org/2001/XMLSchema#integer</td></tr><tr><td>1910</td><td>23^^http://www.w3.org/2001/XMLSchema#integer</td></tr><tr><td>1911</td><td>78^^http://www.w3.org/2001/XMLSchema#integer</td></tr><tr><td>1912</td><td>121^^http://www.w3.org/2001/XMLSchema#integer</td></tr><tr><td>1913</td><td>99^^http://www.w3.org/2001/XMLSchema#integer</td></tr><tr><td>1914</td><td>239^^http://www.w3.org/2001/XMLSchema#integer</td></tr><tr><td>1915</td><td>203^^http://www.w3.org/2001/XMLSchema#integer</td></tr><tr><td>1916</td><td>134^^http://www.w3.org/2001/XMLSchema#integer</td></tr><tr><td>1917</td><td>108^^http://www.w3.org/2001/XMLSchema#integer</td></tr><tr><td>1918</td><td>113^^http://www.w3.org/2001/XMLSchema#integer</td></tr><tr><td>1919</td><td>101^^http://www.w3.org/2001/XMLSchema#integer</td></tr><tr><td>1920</td><td>123^^http://www.w3.org/2001/XMLSchema#integer</td></tr><tr><td>1921</td><td>117^^http://www.w3.org/2001/XMLSchema#integer</td></tr><tr><td>1922</td><td>99^^http://www.w3.org/2001/XMLSchema#integer</td></tr><tr><td>1923</td><td>99^^http://www.w3.org/2001/XMLSchema#integer</td></tr><tr><td>1924</td><td>125^^http://www.w3.org/2001/XMLSchema#integer</td></tr><tr><td>1925</td><td>143^^http://www.w3.org/2001/XMLSchema#integer</td></tr><tr><td>1926</td><td>156^^http://www.w3.org/2001/XMLSchema#integer</td></tr><tr><td>1927</td><td>166^^http://www.w3.org/2001/XMLSchema#integer</td></tr><tr><td>1928</td><td>184^^http://www.w3.org/2001/XMLSchema#integer</td></tr><tr><td>1929</td><td>205^^http://www.w3.org/2001/XMLSchema#integer</td></tr><tr><td>1930</td><td>234^^http://www.w3.org/2001/XMLSchema#integer</td></tr><tr><td>1931</td><td>232^^http://www.w3.org/2001/XMLSchema#integer</td></tr><tr><td>1932</td><td>271^^http://www.w3.org/2001/XMLSchema#integer</td></tr><tr><td>1933</td><td>274^^http://www.w3.org/2001/XMLSchema#integer</td></tr><tr><td>1934</td><td>320^^http://www.w3.org/2001/XMLSchema#integer</td></tr><tr><td>1935</td><td>341^^http://www.w3.org/2001/XMLSchema#integer</td></tr><tr><td>1936</td><td>395^^http://www.w3.org/2001/XMLSchema#integer</td></tr><tr><td>1937</td><td>353^^http://www.w3.org/2001/XMLSchema#integer</td></tr><tr><td>1938</td><td>332^^http://www.w3.org/2001/XMLSchema#integer</td></tr><tr><td>1939</td><td>414^^http://www.w3.org/2001/XMLSchema#integer</td></tr><tr><td>1940</td><td>397^^http://www.w3.org/2001/XMLSchema#integer</td></tr><tr><td>1941</td><td>390^^http://www.w3.org/2001/XMLSchema#integer</td></tr><tr><td>1942</td><td>408^^http://www.w3.org/2001/XMLSchema#integer</td></tr><tr><td>1943</td><td>364^^http://www.w3.org/2001/XMLSchema#integer</td></tr><tr><td>1944</td><td>309^^http://www.w3.org/2001/XMLSchema#integer</td></tr><tr><td>1945</td><td>297^^http://www.w3.org/2001/XMLSchema#integer</td></tr><tr><td>1946</td><td>347^^http://www.w3.org/2001/XMLSchema#integer</td></tr><tr><td>1947</td><td>338^^http://www.w3.org/2001/XMLSchema#integer</td></tr><tr><td>1948</td><td>345^^http://www.w3.org/2001/XMLSchema#integer</td></tr><tr><td>1949</td><td>348^^http://www.w3.org/2001/XMLSchema#integer</td></tr><tr><td>1950</td><td>457^^http://www.w3.org/2001/XMLSchema#integer</td></tr><tr><td>1951</td><td>477^^http://www.w3.org/2001/XMLSchema#integer</td></tr><tr><td>1952</td><td>481^^http://www.w3.org/2001/XMLSchema#integer</td></tr><tr><td>1953</td><td>403^^http://www.w3.org/2001/XMLSchema#integer</td></tr><tr><td>1954</td><td>362^^http://www.w3.org/2001/XMLSchema#integer</td></tr><tr><td>1955</td><td>398^^http://www.w3.org/2001/XMLSchema#integer</td></tr><tr><td>1956</td><td>385^^http://www.w3.org/2001/XMLSchema#integer</td></tr><tr><td>1957</td><td>411^^http://www.w3.org/2001/XMLSchema#integer</td></tr><tr><td>1958</td><td>430^^http://www.w3.org/2001/XMLSchema#integer</td></tr><tr><td>1959</td><td>420^^http://www.w3.org/2001/XMLSchema#integer</td></tr><tr><td>1960</td><td>425^^http://www.w3.org/2001/XMLSchema#integer</td></tr><tr><td>1961</td><td>375^^http://www.w3.org/2001/XMLSchema#integer</td></tr><tr><td>1962</td><td>418^^http://www.w3.org/2001/XMLSchema#integer</td></tr><tr><td>1963</td><td>386^^http://www.w3.org/2001/XMLSchema#integer</td></tr><tr><td>1964</td><td>464^^http://www.w3.org/2001/XMLSchema#integer</td></tr><tr><td>1965</td><td>637^^http://www.w3.org/2001/XMLSchema#integer</td></tr><tr><td>1966</td><td>465^^http://www.w3.org/2001/XMLSchema#integer</td></tr><tr><td>1967</td><td>457^^http://www.w3.org/2001/XMLSchema#integer</td></tr><tr><td>1968</td><td>462^^http://www.w3.org/2001/XMLSchema#integer</td></tr><tr><td>1969</td><td>484^^http://www.w3.org/2001/XMLSchema#integer</td></tr><tr><td>1970</td><td>527^^http://www.w3.org/2001/XMLSchema#integer</td></tr><tr><td>1971</td><td>576^^http://www.w3.org/2001/XMLSchema#integer</td></tr><tr><td>1972</td><td>525^^http://www.w3.org/2001/XMLSchema#integer</td></tr><tr><td>1973</td><td>536^^http://www.w3.org/2001/XMLSchema#integer</td></tr><tr><td>1974</td><td>594^^http://www.w3.org/2001/XMLSchema#integer</td></tr><tr><td>1975</td><td>544^^http://www.w3.org/2001/XMLSchema#integer</td></tr><tr><td>1976</td><td>495^^http://www.w3.org/2001/XMLSchema#integer</td></tr><tr><td>1977</td><td>512^^http://www.w3.org/2001/XMLSchema#integer</td></tr><tr><td>1978</td><td>533^^http://www.w3.org/2001/XMLSchema#integer</td></tr><tr><td>1979</td><td>515^^http://www.w3.org/2001/XMLSchema#integer</td></tr><tr><td>1980</td><td>638^^http://www.w3.org/2001/XMLSchema#integer</td></tr><tr><td>1981</td><td>544^^http://www.w3.org/2001/XMLSchema#integer</td></tr><tr><td>1982</td><td>589^^http://www.w3.org/2001/XMLSchema#integer</td></tr><tr><td>1983</td><td>657^^http://www.w3.org/2001/XMLSchema#integer</td></tr><tr><td>1984</td><td>656^^http://www.w3.org/2001/XMLSchema#integer</td></tr><tr><td>1985</td><td>755^^http://www.w3.org/2001/XMLSchema#integer</td></tr><tr><td>1986</td><td>677^^http://www.w3.org/2001/XMLSchema#integer</td></tr><tr><td>1987</td><td>807^^http://www.w3.org/2001/XMLSchema#integer</td></tr><tr><td>1988</td><td>851^^http://www.w3.org/2001/XMLSchema#integer</td></tr><tr><td>1989</td><td>938^^http://www.w3.org/2001/XMLSchema#integer</td></tr><tr><td>1990</td><td>944^^http://www.w3.org/2001/XMLSchema#integer</td></tr><tr><td>1991</td><td>1018^^http://www.w3.org/2001/XMLSchema#integer</td></tr><tr><td>1992</td><td>975^^http://www.w3.org/2001/XMLSchema#integer</td></tr><tr><td>1993</td><td>1250^^http://www.w3.org/2001/XMLSchema#integer</td></tr><tr><td>1994</td><td>1279^^http://www.w3.org/2001/XMLSchema#integer</td></tr><tr><td>1995</td><td>1500^^http://www.w3.org/2001/XMLSchema#integer</td></tr><tr><td>1996</td><td>1482^^http://www.w3.org/2001/XMLSchema#integer</td></tr><tr><td>1997</td><td>1571^^http://www.w3.org/2001/XMLSchema#integer</td></tr><tr><td>1998</td><td>1852^^http://www.w3.org/2001/XMLSchema#integer</td></tr><tr><td>1999</td><td>1981^^http://www.w3.org/2001/XMLSchema#integer</td></tr><tr><td>2000</td><td>2242^^http://www.w3.org/2001/XMLSchema#integer</td></tr><tr><td>2001</td><td>2383^^http://www.w3.org/2001/XMLSchema#integer</td></tr><tr><td>2002</td><td>2267^^http://www.w3.org/2001/XMLSchema#integer</td></tr><tr><td>2003</td><td>2142^^http://www.w3.org/2001/XMLSchema#integer</td></tr><tr><td>2004</td><td>2433^^http://www.w3.org/2001/XMLSchema#integer</td></tr><tr><td>2005</td><td>2596^^http://www.w3.org/2001/XMLSchema#integer</td></tr><tr><td>2006</td><td>2908^^http://www.w3.org/2001/XMLSchema#integer</td></tr><tr><td>2007</td><td>2930^^http://www.w3.org/2001/XMLSchema#integer</td></tr><tr><td>2008</td><td>4202^^http://www.w3.org/2001/XMLSchema#integer</td></tr><tr><td>2009</td><td>2589^^http://www.w3.org/2001/XMLSchema#integer</td></tr><tr><td>2010</td><td>314^^http://www.w3.org/2001/XMLSchema#integer</td></tr><tr><td>2011</td><td>46^^http://www.w3.org/2001/XMLSchema#integer</td></tr><tr><td>2012</td><td>10^^http://www.w3.org/2001/XMLSchema#integer</td></tr><tr><td>2013</td><td>2^^http://www.w3.org/2001/XMLSchema#integer</td></tr><tr><td>2075</td><td>1^^http://www.w3.org/2001/XMLSchema#integer</td></tr></table>"
      ],
      "text/plain": [
       "<IPython.core.display.HTML object>"
      ]
     },
     "metadata": {},
     "output_type": "display_data"
    }
   ],
   "source": [
    "%%rdf sparql --endpoint https://api.triplydb.com/datasets/Triply/linkedmdb/services/linkedmdb/sparql\n",
    "PREFIX rdfs: <http://www.w3.org/2000/01/rdf-schema#>\n",
    "PREFIX lmdb: <https://triplydb.com/Triply/linkedmdb/vocab/>\n",
    "PREFIX dc: <http://purl.org/dc/terms/>\n",
    "\n",
    "SELECT distinct ?year (COUNT(DISTINCT ?movie) as ?amountMovies)\n",
    "WHERE {\n",
    "    ?movie a lmdb:Film ;\n",
    "            dc:date ?date .\n",
    "    BIND(SUBSTR(?date, 1, 4) AS ?year) .\n",
    "}\n",
    "GROUP BY ?year\n",
    "ORDER BY ?year\n",
    "\n",
    "## The knowledge graph contains movies that were released between 1888 and 2013\n",
    "## The results show some obvious faulty data in the knowledge graph:\n",
    "## 1 movie from 1004\n",
    "## 1 movie from 2075"
   ]
  },
  {
   "cell_type": "code",
   "execution_count": 3,
   "id": "78136ddd",
   "metadata": {},
   "outputs": [
    {
     "data": {
      "text/html": [
       "<table><tr><th>movie</th><th>title</th><th>year</th></tr><tr><td>&lt;https://triplydb.com/Triply/linkedmdb/id/film/34426&gt;</td><td>The Best Thief in the World</td><td>1004</td></tr><tr><td>&lt;https://triplydb.com/Triply/linkedmdb/id/film/45021&gt;</td><td>Crood Awakening</td><td>2012</td></tr><tr><td>&lt;https://triplydb.com/Triply/linkedmdb/id/film/53953&gt;</td><td>Newt</td><td>2012</td></tr><tr><td>&lt;https://triplydb.com/Triply/linkedmdb/id/film/71763&gt;</td><td>The Hobbit 2</td><td>2012</td></tr><tr><td>&lt;https://triplydb.com/Triply/linkedmdb/id/film/73431&gt;</td><td>Madagascar 3</td><td>2012</td></tr><tr><td>&lt;https://triplydb.com/Triply/linkedmdb/id/film/97044&gt;</td><td>Dr. Seuss' The Lorax</td><td>2012</td></tr><tr><td>&lt;https://triplydb.com/Triply/linkedmdb/id/film/53954&gt;</td><td>King of the Elves</td><td>2012</td></tr><tr><td>&lt;https://triplydb.com/Triply/linkedmdb/id/film/86971&gt;</td><td>The Guardians</td><td>2012</td></tr><tr><td>&lt;https://triplydb.com/Triply/linkedmdb/id/film/97038&gt;</td><td>Hotel Transylvania</td><td>2012</td></tr><tr><td>&lt;https://triplydb.com/Triply/linkedmdb/id/film/81402&gt;</td><td>The Avengers</td><td>2012</td></tr><tr><td>&lt;https://triplydb.com/Triply/linkedmdb/id/film/81403&gt;</td><td>Deadpool</td><td>2012</td></tr><tr><td>&lt;https://triplydb.com/Triply/linkedmdb/id/film/17254&gt;</td><td>Boyhood</td><td>2013</td></tr><tr><td>&lt;https://triplydb.com/Triply/linkedmdb/id/film/53485&gt;</td><td>The Island Tale</td><td>2013</td></tr><tr><td>&lt;https://triplydb.com/Triply/linkedmdb/id/film/95324&gt;</td><td>La griffe et la dent</td><td>2075</td></tr></table>"
      ],
      "text/plain": [
       "<IPython.core.display.HTML object>"
      ]
     },
     "metadata": {},
     "output_type": "display_data"
    }
   ],
   "source": [
    "%%rdf sparql --endpoint https://api.triplydb.com/datasets/Triply/linkedmdb/services/linkedmdb/sparql\n",
    "PREFIX rdfs: <http://www.w3.org/2000/01/rdf-schema#>\n",
    "PREFIX lmdb: <https://triplydb.com/Triply/linkedmdb/vocab/>\n",
    "PREFIX dc: <http://purl.org/dc/terms/>\n",
    "\n",
    "SELECT distinct ?movie ?title ?year\n",
    "WHERE {\n",
    "    ?movie a lmdb:Film ;\n",
    "             dc:title ?title ;\n",
    "             dc:date ?date .\n",
    "    BIND(SUBSTR(?date, 1, 4) AS ?year) .\n",
    "    FILTER(?year in (\"1004\", \"2012\", \"2013\", \"2075\"))\n",
    "}\n",
    "ORDER BY ?year\n",
    "\n",
    "## Movies in 2012 partly don't contain true information\n",
    "## Compare Deadpool which was releaed 2016, not 2012\n",
    "## Possible explanation:\n",
    "## Data was added to the knowledge graph before 2012 (probably 2010)\n",
    "## Movies that have a later release year were announced movies at that time"
   ]
  },
  {
   "cell_type": "markdown",
   "id": "ee287e90",
   "metadata": {},
   "source": [
    "### Looking for duplicates in data (Same movie title, same release year but different ids)"
   ]
  },
  {
   "cell_type": "code",
   "execution_count": 4,
   "id": "85f5c8c2",
   "metadata": {},
   "outputs": [
    {
     "data": {
      "text/html": [
       "<table><tr><th>title</th><th>movie1</th><th>movie2</th><th>date1</th><th>date2</th><th>year1</th><th>year2</th></tr><tr><td>A Doll's House</td><td>&lt;https://triplydb.com/Triply/linkedmdb/id/film/10051&gt;</td><td>&lt;https://triplydb.com/Triply/linkedmdb/id/film/15874&gt;</td><td>1973</td><td>1973-05-22</td><td>1973</td><td>1973</td></tr><tr><td>Badri</td><td>&lt;https://triplydb.com/Triply/linkedmdb/id/film/10513&gt;</td><td>&lt;https://triplydb.com/Triply/linkedmdb/id/film/48536&gt;</td><td>2000-04-20</td><td>2000-04-20</td><td>2000</td><td>2000</td></tr><tr><td>Badri</td><td>&lt;https://triplydb.com/Triply/linkedmdb/id/film/10513&gt;</td><td>&lt;https://triplydb.com/Triply/linkedmdb/id/film/26289&gt;</td><td>2000-04-20</td><td>2000-04-20</td><td>2000</td><td>2000</td></tr><tr><td>Anna Christie</td><td>&lt;https://triplydb.com/Triply/linkedmdb/id/film/11412&gt;</td><td>&lt;https://triplydb.com/Triply/linkedmdb/id/film/38795&gt;</td><td>1931</td><td>1931</td><td>1931</td><td>1931</td></tr><tr><td>Anna Christie</td><td>&lt;https://triplydb.com/Triply/linkedmdb/id/film/11412&gt;</td><td>&lt;https://triplydb.com/Triply/linkedmdb/id/film/25727&gt;</td><td>1931</td><td>1931</td><td>1931</td><td>1931</td></tr><tr><td>1984</td><td>&lt;https://triplydb.com/Triply/linkedmdb/id/film/1523&gt;</td><td>&lt;https://triplydb.com/Triply/linkedmdb/id/film/38932&gt;</td><td>1984-10-10</td><td>1984-01-22</td><td>1984</td><td>1984</td></tr><tr><td>Alice's Restaurant</td><td>&lt;https://triplydb.com/Triply/linkedmdb/id/film/17923&gt;</td><td>&lt;https://triplydb.com/Triply/linkedmdb/id/film/1022&gt;</td><td>1969-08-20</td><td>1969-08-20</td><td>1969</td><td>1969</td></tr><tr><td>Johnny Angel</td><td>&lt;https://triplydb.com/Triply/linkedmdb/id/film/30017&gt;</td><td>&lt;https://triplydb.com/Triply/linkedmdb/id/film/45198&gt;</td><td>1945-12-27</td><td>1945-12-27</td><td>1945</td><td>1945</td></tr><tr><td>Alibi</td><td>&lt;https://triplydb.com/Triply/linkedmdb/id/film/38260&gt;</td><td>&lt;https://triplydb.com/Triply/linkedmdb/id/film/25519&gt;</td><td>1929-04-20</td><td>1929-04-19,1929-04-20</td><td>1929</td><td>1929</td></tr><tr><td>Anna Christie</td><td>&lt;https://triplydb.com/Triply/linkedmdb/id/film/38795&gt;</td><td>&lt;https://triplydb.com/Triply/linkedmdb/id/film/25727&gt;</td><td>1931</td><td>1931</td><td>1931</td><td>1931</td></tr><tr><td>Aradhana</td><td>&lt;https://triplydb.com/Triply/linkedmdb/id/film/45178&gt;</td><td>&lt;https://triplydb.com/Triply/linkedmdb/id/film/25817&gt;</td><td>1969-09-27</td><td>1969-09-27</td><td>1969</td><td>1969</td></tr><tr><td>Baazi</td><td>&lt;https://triplydb.com/Triply/linkedmdb/id/film/47259&gt;</td><td>&lt;https://triplydb.com/Triply/linkedmdb/id/film/26256&gt;</td><td>1951</td><td>1951</td><td>1951</td><td>1951</td></tr><tr><td>Badri</td><td>&lt;https://triplydb.com/Triply/linkedmdb/id/film/48536&gt;</td><td>&lt;https://triplydb.com/Triply/linkedmdb/id/film/26289&gt;</td><td>2000-04-20</td><td>2000-04-20</td><td>2000</td><td>2000</td></tr><tr><td>A Christmas Carol</td><td>&lt;https://triplydb.com/Triply/linkedmdb/id/film/5276&gt;</td><td>&lt;https://triplydb.com/Triply/linkedmdb/id/film/11771&gt;</td><td>1999-12-05</td><td>1999</td><td>1999</td><td>1999</td></tr><tr><td>Evel Knievel</td><td>&lt;https://triplydb.com/Triply/linkedmdb/id/film/61359&gt;</td><td>&lt;https://triplydb.com/Triply/linkedmdb/id/film/70464&gt;</td><td>1971</td><td>1971-09-10</td><td>1971</td><td>1971</td></tr><tr><td>Benjamin</td><td>&lt;https://triplydb.com/Triply/linkedmdb/id/film/70042&gt;</td><td>&lt;https://triplydb.com/Triply/linkedmdb/id/film/58972&gt;</td><td>1968-01</td><td>1968</td><td>1968</td><td>1968</td></tr><tr><td>Zouzou</td><td>&lt;https://triplydb.com/Triply/linkedmdb/id/film/73484&gt;</td><td>&lt;https://triplydb.com/Triply/linkedmdb/id/film/60720&gt;</td><td>1934</td><td>1934</td><td>1934</td><td>1934</td></tr><tr><td>Because of Winn-Dixie</td><td>&lt;https://triplydb.com/Triply/linkedmdb/id/film/12613&gt;</td><td>&lt;https://triplydb.com/Triply/linkedmdb/id/film/26433&gt;</td><td>2005-02-18</td><td>2005-02-18</td><td>2005</td><td>2005</td></tr><tr><td>Because of Winn-Dixie</td><td>&lt;https://triplydb.com/Triply/linkedmdb/id/film/12613&gt;</td><td>&lt;https://triplydb.com/Triply/linkedmdb/id/film/41461&gt;</td><td>2005-02-18</td><td>2005-02-18</td><td>2005</td><td>2005</td></tr><tr><td>Andaz</td><td>&lt;https://triplydb.com/Triply/linkedmdb/id/film/25675&gt;</td><td>&lt;https://triplydb.com/Triply/linkedmdb/id/film/46987&gt;</td><td>1949</td><td>1949</td><td>1949</td><td>1949</td></tr><tr><td>A Fistful of Dollars</td><td>&lt;https://triplydb.com/Triply/linkedmdb/id/film/26023&gt;</td><td>&lt;https://triplydb.com/Triply/linkedmdb/id/film/39409&gt;</td><td>1964-12-10</td><td>1964-12-10</td><td>1964</td><td>1964</td></tr><tr><td>Because of Winn-Dixie</td><td>&lt;https://triplydb.com/Triply/linkedmdb/id/film/26433&gt;</td><td>&lt;https://triplydb.com/Triply/linkedmdb/id/film/41461&gt;</td><td>2005-02-18</td><td>2005-02-18</td><td>2005</td><td>2005</td></tr><tr><td>Beetlejuice</td><td>&lt;https://triplydb.com/Triply/linkedmdb/id/film/26447&gt;</td><td>&lt;https://triplydb.com/Triply/linkedmdb/id/film/39134&gt;</td><td>1988-03-30</td><td>1988-03-30</td><td>1988</td><td>1988</td></tr><tr><td>Chandni</td><td>&lt;https://triplydb.com/Triply/linkedmdb/id/film/27155&gt;</td><td>&lt;https://triplydb.com/Triply/linkedmdb/id/film/46012&gt;</td><td>1989</td><td>1989-09-14</td><td>1989</td><td>1989</td></tr><tr><td>Jazmin</td><td>&lt;https://triplydb.com/Triply/linkedmdb/id/film/29971&gt;</td><td>&lt;https://triplydb.com/Triply/linkedmdb/id/film/48083&gt;</td><td>2004-10-17</td><td>2004-10-17</td><td>2004</td><td>2004</td></tr><tr><td>Jeremiah Johnson</td><td>&lt;https://triplydb.com/Triply/linkedmdb/id/film/29984&gt;</td><td>&lt;https://triplydb.com/Triply/linkedmdb/id/film/39825&gt;</td><td>1972-09-10</td><td>1972-09-10</td><td>1972</td><td>1972</td></tr><tr><td>Johnny Guitar</td><td>&lt;https://triplydb.com/Triply/linkedmdb/id/film/30024&gt;</td><td>&lt;https://triplydb.com/Triply/linkedmdb/id/film/41126&gt;</td><td>1954-05-27</td><td>1954</td><td>1954</td><td>1954</td></tr><tr><td>All the Invisible Children</td><td>&lt;https://triplydb.com/Triply/linkedmdb/id/film/25573&gt;</td><td>&lt;https://triplydb.com/Triply/linkedmdb/id/film/44246&gt;</td><td>2005</td><td>2005</td><td>2005</td><td>2005</td></tr><tr><td>A Battle of Wits</td><td>&lt;https://triplydb.com/Triply/linkedmdb/id/film/25946&gt;</td><td>&lt;https://triplydb.com/Triply/linkedmdb/id/film/50091&gt;</td><td>1912</td><td>1912</td><td>1912</td><td>1912</td></tr><tr><td>Barefoot in the Park</td><td>&lt;https://triplydb.com/Triply/linkedmdb/id/film/26364&gt;</td><td>&lt;https://triplydb.com/Triply/linkedmdb/id/film/39748&gt;</td><td>1963</td><td>1963</td><td>1963</td><td>1963</td></tr><tr><td>Little Billy serials</td><td>&lt;https://triplydb.com/Triply/linkedmdb/id/film/30743&gt;</td><td>&lt;https://triplydb.com/Triply/linkedmdb/id/film/48046&gt;</td><td>1914</td><td>1914</td><td>1914</td><td>1914</td></tr><tr><td>Obsession</td><td>&lt;https://triplydb.com/Triply/linkedmdb/id/film/81595&gt;</td><td>&lt;https://triplydb.com/Triply/linkedmdb/id/film/81773&gt;</td><td>1988-05-01</td><td>1988-06-01</td><td>1988</td><td>1988</td></tr><tr><td>Damul</td><td>&lt;https://triplydb.com/Triply/linkedmdb/id/film/10032&gt;</td><td>&lt;https://triplydb.com/Triply/linkedmdb/id/film/12336&gt;</td><td>1985</td><td>1985</td><td>1985</td><td>1985</td></tr><tr><td>Ice Station Zebra</td><td>&lt;https://triplydb.com/Triply/linkedmdb/id/film/1010&gt;</td><td>&lt;https://triplydb.com/Triply/linkedmdb/id/film/11991&gt;</td><td>1968-10-23</td><td>1968-10-23</td><td>1968</td><td>1968</td></tr><tr><td>Hitman</td><td>&lt;https://triplydb.com/Triply/linkedmdb/id/film/10528&gt;</td><td>&lt;https://triplydb.com/Triply/linkedmdb/id/film/7280&gt;</td><td>2007-10-12</td><td>2007</td><td>2007</td><td>2007</td></tr><tr><td>Hello</td><td>&lt;https://triplydb.com/Triply/linkedmdb/id/film/11832&gt;</td><td>&lt;https://triplydb.com/Triply/linkedmdb/id/film/19125&gt;</td><td>2007-10</td><td>2007-07-05</td><td>2007</td><td>2007</td></tr><tr><td>Dracula</td><td>&lt;https://triplydb.com/Triply/linkedmdb/id/film/12101&gt;</td><td>&lt;https://triplydb.com/Triply/linkedmdb/id/film/1809&gt;</td><td>1931</td><td>1931-02-12</td><td>1931</td><td>1931</td></tr><tr><td>Flash Gordon</td><td>&lt;https://triplydb.com/Triply/linkedmdb/id/film/161&gt;</td><td>&lt;https://triplydb.com/Triply/linkedmdb/id/film/6442&gt;</td><td>1936</td><td>1936</td><td>1936</td><td>1936</td></tr><tr><td>Great Expectations</td><td>&lt;https://triplydb.com/Triply/linkedmdb/id/film/16899&gt;</td><td>&lt;https://triplydb.com/Triply/linkedmdb/id/film/10035&gt;</td><td>1934</td><td>1934</td><td>1934</td><td>1934</td></tr><tr><td>Homegrown</td><td>&lt;https://triplydb.com/Triply/linkedmdb/id/film/17746&gt;</td><td>&lt;https://triplydb.com/Triply/linkedmdb/id/film/10074&gt;</td><td>1998-04-17</td><td>1998</td><td>1998</td><td>1998</td></tr><tr><td>Dus</td><td>&lt;https://triplydb.com/Triply/linkedmdb/id/film/28138&gt;</td><td>&lt;https://triplydb.com/Triply/linkedmdb/id/film/42592&gt;</td><td>2005-07-08</td><td>2005-07-08</td><td>2005</td><td>2005</td></tr><tr><td>Easy Money</td><td>&lt;https://triplydb.com/Triply/linkedmdb/id/film/28168&gt;</td><td>&lt;https://triplydb.com/Triply/linkedmdb/id/film/48173&gt;</td><td>1983</td><td>1983-08-19</td><td>1983</td><td>1983</td></tr><tr><td>Blood and Sand</td><td>&lt;https://triplydb.com/Triply/linkedmdb/id/film/42595&gt;</td><td>&lt;https://triplydb.com/Triply/linkedmdb/id/film/26686&gt;</td><td>1922-09-10</td><td>1922-09-10</td><td>1922</td><td>1922</td></tr><tr><td>Broken Bridges</td><td>&lt;https://triplydb.com/Triply/linkedmdb/id/film/48972&gt;</td><td>&lt;https://triplydb.com/Triply/linkedmdb/id/film/26887&gt;</td><td>2006-09-08</td><td>2006,2006-09-08</td><td>2006</td><td>2006</td></tr><tr><td>Hunger</td><td>&lt;https://triplydb.com/Triply/linkedmdb/id/film/84616&gt;</td><td>&lt;https://triplydb.com/Triply/linkedmdb/id/film/66085&gt;</td><td>2008-03-04</td><td>2008</td><td>2008</td><td>2008</td></tr><tr><td>Crimes of the Heart</td><td>&lt;https://triplydb.com/Triply/linkedmdb/id/film/27505&gt;</td><td>&lt;https://triplydb.com/Triply/linkedmdb/id/film/39056&gt;</td><td>1986</td><td>1986</td><td>1986</td><td>1986</td></tr><tr><td>Charley's Aunt</td><td>&lt;https://triplydb.com/Triply/linkedmdb/id/film/66956&gt;</td><td>&lt;https://triplydb.com/Triply/linkedmdb/id/film/3939&gt;</td><td>1915</td><td>1915</td><td>1915</td><td>1915</td></tr><tr><td>First Family</td><td>&lt;https://triplydb.com/Triply/linkedmdb/id/film/10008&gt;</td><td>&lt;https://triplydb.com/Triply/linkedmdb/id/film/80593&gt;</td><td>1980</td><td>1980</td><td>1980</td><td>1980</td></tr><tr><td>Empire of the Sun</td><td>&lt;https://triplydb.com/Triply/linkedmdb/id/film/10160&gt;</td><td>&lt;https://triplydb.com/Triply/linkedmdb/id/film/28266&gt;</td><td>1987-12-09</td><td>1987-12-09</td><td>1987</td><td>1987</td></tr><tr><td>Carnal Knowledge</td><td>&lt;https://triplydb.com/Triply/linkedmdb/id/film/1074&gt;</td><td>&lt;https://triplydb.com/Triply/linkedmdb/id/film/6858&gt;</td><td>1971-06-30</td><td>1971-06-30</td><td>1971</td><td>1971</td></tr><tr><td>Gods and Generals</td><td>&lt;https://triplydb.com/Triply/linkedmdb/id/film/11467&gt;</td><td>&lt;https://triplydb.com/Triply/linkedmdb/id/film/28994&gt;</td><td>2003-02-21</td><td>2003</td><td>2003</td><td>2003</td></tr><tr><td>Gods and Generals</td><td>&lt;https://triplydb.com/Triply/linkedmdb/id/film/11467&gt;</td><td>&lt;https://triplydb.com/Triply/linkedmdb/id/film/40343&gt;</td><td>2003-02-21</td><td>2003</td><td>2003</td><td>2003</td></tr><tr><td>Get Shorty</td><td>&lt;https://triplydb.com/Triply/linkedmdb/id/film/11776&gt;</td><td>&lt;https://triplydb.com/Triply/linkedmdb/id/film/28917&gt;</td><td>1995-10-20</td><td>1995-10-20</td><td>1995</td><td>1995</td></tr><tr><td>Election</td><td>&lt;https://triplydb.com/Triply/linkedmdb/id/film/1274&gt;</td><td>&lt;https://triplydb.com/Triply/linkedmdb/id/film/4033&gt;</td><td>1999-04-23</td><td>1999</td><td>1999</td><td>1999</td></tr><tr><td>Dawn of the Dead</td><td>&lt;https://triplydb.com/Triply/linkedmdb/id/film/27674&gt;</td><td>&lt;https://triplydb.com/Triply/linkedmdb/id/film/38298&gt;</td><td>1978-09-02</td><td>1978</td><td>1978</td><td>1978</td></tr><tr><td>Gods and Generals</td><td>&lt;https://triplydb.com/Triply/linkedmdb/id/film/28994&gt;</td><td>&lt;https://triplydb.com/Triply/linkedmdb/id/film/40343&gt;</td><td>2003</td><td>2003</td><td>2003</td><td>2003</td></tr><tr><td>Heartbreakers</td><td>&lt;https://triplydb.com/Triply/linkedmdb/id/film/29286&gt;</td><td>&lt;https://triplydb.com/Triply/linkedmdb/id/film/39111&gt;</td><td>2001-03-23</td><td>2001</td><td>2001</td><td>2001</td></tr><tr><td>Carrie</td><td>&lt;https://triplydb.com/Triply/linkedmdb/id/film/325&gt;</td><td>&lt;https://triplydb.com/Triply/linkedmdb/id/film/8915&gt;</td><td>1952</td><td>1952,1952-07-17</td><td>1952</td><td>1952</td></tr><tr><td>Bratz</td><td>&lt;https://triplydb.com/Triply/linkedmdb/id/film/26823&gt;</td><td>&lt;https://triplydb.com/Triply/linkedmdb/id/film/39009&gt;</td><td>2001</td><td>2001</td><td>2001</td><td>2001</td></tr><tr><td>Captain January</td><td>&lt;https://triplydb.com/Triply/linkedmdb/id/film/27039&gt;</td><td>&lt;https://triplydb.com/Triply/linkedmdb/id/film/40386&gt;</td><td>1924</td><td>1924</td><td>1924</td><td>1924</td></tr><tr><td>In Desert and Wilderness</td><td>&lt;https://triplydb.com/Triply/linkedmdb/id/film/29744&gt;</td><td>&lt;https://triplydb.com/Triply/linkedmdb/id/film/41472&gt;</td><td>1912</td><td>1912</td><td>1912</td><td>1912</td></tr><tr><td>Ramona</td><td>&lt;https://triplydb.com/Triply/linkedmdb/id/film/10057&gt;</td><td>&lt;https://triplydb.com/Triply/linkedmdb/id/film/55274&gt;</td><td>1928</td><td>1928-05-20</td><td>1928</td><td>1928</td></tr><tr><td>Little Lord Fauntleroy</td><td>&lt;https://triplydb.com/Triply/linkedmdb/id/film/10060&gt;</td><td>&lt;https://triplydb.com/Triply/linkedmdb/id/film/53487&gt;</td><td>1936</td><td>1936-04-02</td><td>1936</td><td>1936</td></tr><tr><td>Love & Sex</td><td>&lt;https://triplydb.com/Triply/linkedmdb/id/film/11137&gt;</td><td>&lt;https://triplydb.com/Triply/linkedmdb/id/film/10089&gt;</td><td>2000-01-24</td><td>2000</td><td>2000</td><td>2000</td></tr><tr><td>Rapunzel</td><td>&lt;https://triplydb.com/Triply/linkedmdb/id/film/1172&gt;</td><td>&lt;https://triplydb.com/Triply/linkedmdb/id/film/94446&gt;</td><td>2009-06</td><td>2009-12-12</td><td>2009</td><td>2009</td></tr><tr><td>Percy's Progress</td><td>&lt;https://triplydb.com/Triply/linkedmdb/id/film/12538&gt;</td><td>&lt;https://triplydb.com/Triply/linkedmdb/id/film/8834&gt;</td><td>1974</td><td>1974</td><td>1974</td><td>1974</td></tr><tr><td>Rocky V</td><td>&lt;https://triplydb.com/Triply/linkedmdb/id/film/32912&gt;</td><td>&lt;https://triplydb.com/Triply/linkedmdb/id/film/38665&gt;</td><td>1990-11-16</td><td>1990-11-16</td><td>1990</td><td>1990</td></tr><tr><td>Kireedam</td><td>&lt;https://triplydb.com/Triply/linkedmdb/id/film/42681&gt;</td><td>&lt;https://triplydb.com/Triply/linkedmdb/id/film/30295&gt;</td><td>1989</td><td>1989</td><td>1989</td><td>1989</td></tr><tr><td>Joy Ride</td><td>&lt;https://triplydb.com/Triply/linkedmdb/id/film/44394&gt;</td><td>&lt;https://triplydb.com/Triply/linkedmdb/id/film/30054&gt;</td><td>2001-10-05</td><td>2001-10-05</td><td>2001</td><td>2001</td></tr><tr><td>Macbeth</td><td>&lt;https://triplydb.com/Triply/linkedmdb/id/film/52007&gt;</td><td>&lt;https://triplydb.com/Triply/linkedmdb/id/film/52008&gt;</td><td>1909</td><td>1909</td><td>1909</td><td>1909</td></tr><tr><td>Oliver Twist</td><td>&lt;https://triplydb.com/Triply/linkedmdb/id/film/53132&gt;</td><td>&lt;https://triplydb.com/Triply/linkedmdb/id/film/53363&gt;</td><td>1982</td><td>1982</td><td>1982</td><td>1982</td></tr><tr><td>Journey to the Center of the Earth</td><td>&lt;https://triplydb.com/Triply/linkedmdb/id/film/56589&gt;</td><td>&lt;https://triplydb.com/Triply/linkedmdb/id/film/69807&gt;</td><td>2008-07-11</td><td>2008-02-04</td><td>2008</td><td>2008</td></tr><tr><td>Journey to the Center of the Earth</td><td>&lt;https://triplydb.com/Triply/linkedmdb/id/film/56589&gt;</td><td>&lt;https://triplydb.com/Triply/linkedmdb/id/film/72416&gt;</td><td>2008-07-11</td><td>2008-07-01</td><td>2008</td><td>2008</td></tr><tr><td>Paradise</td><td>&lt;https://triplydb.com/Triply/linkedmdb/id/film/68857&gt;</td><td>&lt;https://triplydb.com/Triply/linkedmdb/id/film/68949&gt;</td><td>2007</td><td>2007</td><td>2007</td><td>2007</td></tr><tr><td>One Night Stand</td><td>&lt;https://triplydb.com/Triply/linkedmdb/id/film/7217&gt;</td><td>&lt;https://triplydb.com/Triply/linkedmdb/id/film/90226&gt;</td><td>1997-11-14</td><td>1997-08-01</td><td>1997</td><td>1997</td></tr><tr><td>Macbeth</td><td>&lt;https://triplydb.com/Triply/linkedmdb/id/film/8974&gt;</td><td>&lt;https://triplydb.com/Triply/linkedmdb/id/film/49952&gt;</td><td>2006,2006-09-21</td><td>2006</td><td>2006</td><td>2006</td></tr><tr><td>Penny Dreadful</td><td>&lt;https://triplydb.com/Triply/linkedmdb/id/film/10182&gt;</td><td>&lt;https://triplydb.com/Triply/linkedmdb/id/film/4727&gt;</td><td>2006-11-18</td><td>2006</td><td>2006</td><td>2006</td></tr><tr><td>Khushi</td><td>&lt;https://triplydb.com/Triply/linkedmdb/id/film/12215&gt;</td><td>&lt;https://triplydb.com/Triply/linkedmdb/id/film/9879&gt;</td><td>2003-02-07</td><td>2003</td><td>2003</td><td>2003</td></tr><tr><td>Master of the World</td><td>&lt;https://triplydb.com/Triply/linkedmdb/id/film/31121&gt;</td><td>&lt;https://triplydb.com/Triply/linkedmdb/id/film/44806&gt;</td><td>1904</td><td>1904</td><td>1904</td><td>1904</td></tr><tr><td>Of Human Bondage</td><td>&lt;https://triplydb.com/Triply/linkedmdb/id/film/31921&gt;</td><td>&lt;https://triplydb.com/Triply/linkedmdb/id/film/40186&gt;</td><td>1915</td><td>1915</td><td>1915</td><td>1915</td></tr><tr><td>Journey to the Center of the Earth</td><td>&lt;https://triplydb.com/Triply/linkedmdb/id/film/69807&gt;</td><td>&lt;https://triplydb.com/Triply/linkedmdb/id/film/72416&gt;</td><td>2008-02-04</td><td>2008-07-01</td><td>2008</td><td>2008</td></tr><tr><td>Ramona</td><td>&lt;https://triplydb.com/Triply/linkedmdb/id/film/10056&gt;</td><td>&lt;https://triplydb.com/Triply/linkedmdb/id/film/55105&gt;</td><td>1916</td><td>1916-04-05</td><td>1916</td><td>1916</td></tr><tr><td>Ramona</td><td>&lt;https://triplydb.com/Triply/linkedmdb/id/film/10058&gt;</td><td>&lt;https://triplydb.com/Triply/linkedmdb/id/film/55149&gt;</td><td>1936</td><td>1936-09-25</td><td>1936</td><td>1936</td></tr><tr><td>Rapid Fire</td><td>&lt;https://triplydb.com/Triply/linkedmdb/id/film/1077&gt;</td><td>&lt;https://triplydb.com/Triply/linkedmdb/id/film/32660&gt;</td><td>1992</td><td>1992</td><td>1992</td><td>1992</td></tr><tr><td>Restless</td><td>&lt;https://triplydb.com/Triply/linkedmdb/id/film/1595&gt;</td><td>&lt;https://triplydb.com/Triply/linkedmdb/id/film/93039&gt;</td><td>2000</td><td>2000</td><td>2000</td><td>2000</td></tr><tr><td>Khushi</td><td>&lt;https://triplydb.com/Triply/linkedmdb/id/film/30230&gt;</td><td>&lt;https://triplydb.com/Triply/linkedmdb/id/film/46063&gt;</td><td>2000-05-19</td><td>2000-05-19</td><td>2000</td><td>2000</td></tr><tr><td>Last Holiday</td><td>&lt;https://triplydb.com/Triply/linkedmdb/id/film/30457&gt;</td><td>&lt;https://triplydb.com/Triply/linkedmdb/id/film/43560&gt;</td><td>2006-01-13</td><td>2006-01-13</td><td>2006</td><td>2006</td></tr><tr><td>Run Lola Run</td><td>&lt;https://triplydb.com/Triply/linkedmdb/id/film/32976&gt;</td><td>&lt;https://triplydb.com/Triply/linkedmdb/id/film/39474&gt;</td><td>1998</td><td>1998</td><td>1998</td><td>1998</td></tr><tr><td>Ramona</td><td>&lt;https://triplydb.com/Triply/linkedmdb/id/film/55376&gt;</td><td>&lt;https://triplydb.com/Triply/linkedmdb/id/film/969&gt;</td><td>1910-05-23</td><td>1910</td><td>1910</td><td>1910</td></tr><tr><td>Little Lord Fauntleroy</td><td>&lt;https://triplydb.com/Triply/linkedmdb/id/film/30755&gt;</td><td>&lt;https://triplydb.com/Triply/linkedmdb/id/film/38991&gt;</td><td>1914</td><td>1914</td><td>1914</td><td>1914</td></tr><tr><td>The War of the Worlds</td><td>&lt;https://triplydb.com/Triply/linkedmdb/id/film/1049&gt;</td><td>&lt;https://triplydb.com/Triply/linkedmdb/id/film/351&gt;</td><td>1953</td><td>1953-08-13</td><td>1953</td><td>1953</td></tr><tr><td>The Purple Monster Strikes</td><td>&lt;https://triplydb.com/Triply/linkedmdb/id/film/11206&gt;</td><td>&lt;https://triplydb.com/Triply/linkedmdb/id/film/6276&gt;</td><td>1945</td><td>1945</td><td>1945</td><td>1945</td></tr><tr><td>The Hitcher</td><td>&lt;https://triplydb.com/Triply/linkedmdb/id/film/35328&gt;</td><td>&lt;https://triplydb.com/Triply/linkedmdb/id/film/40302&gt;</td><td>1986-02-21</td><td>1986-02-21</td><td>1986</td><td>1986</td></tr><tr><td>The Prisoner of Zenda</td><td>&lt;https://triplydb.com/Triply/linkedmdb/id/film/36164&gt;</td><td>&lt;https://triplydb.com/Triply/linkedmdb/id/film/38431&gt;</td><td>1937</td><td>1937</td><td>1937</td><td>1937</td></tr><tr><td>The Hunters</td><td>&lt;https://triplydb.com/Triply/linkedmdb/id/film/4007&gt;</td><td>&lt;https://triplydb.com/Triply/linkedmdb/id/film/9169&gt;</td><td>1996</td><td>1996,1958</td><td>1996</td><td>1996</td></tr><tr><td>The Dentist</td><td>&lt;https://triplydb.com/Triply/linkedmdb/id/film/44168&gt;</td><td>&lt;https://triplydb.com/Triply/linkedmdb/id/film/34846&gt;</td><td>1996-10-18</td><td>1996-10-18</td><td>1996</td><td>1996</td></tr><tr><td>The Maid</td><td>&lt;https://triplydb.com/Triply/linkedmdb/id/film/45154&gt;</td><td>&lt;https://triplydb.com/Triply/linkedmdb/id/film/35737&gt;</td><td>2005</td><td>2005</td><td>2005</td><td>2005</td></tr><tr><td>The Painted Veil</td><td>&lt;https://triplydb.com/Triply/linkedmdb/id/film/50526&gt;</td><td>&lt;https://triplydb.com/Triply/linkedmdb/id/film/36041&gt;</td><td>2006-12-20</td><td>2006-12-20</td><td>2006</td><td>2006</td></tr><tr><td>St. Louis Blues</td><td>&lt;https://triplydb.com/Triply/linkedmdb/id/film/56685&gt;</td><td>&lt;https://triplydb.com/Triply/linkedmdb/id/film/1068&gt;</td><td>1929-09-08</td><td>1929</td><td>1929</td><td>1929</td></tr><tr><td>Treasure Island</td><td>&lt;https://triplydb.com/Triply/linkedmdb/id/film/7200&gt;</td><td>&lt;https://triplydb.com/Triply/linkedmdb/id/film/51822&gt;</td><td>1972</td><td>1972</td><td>1972</td><td>1972</td></tr><tr><td>The Hunters</td><td>&lt;https://triplydb.com/Triply/linkedmdb/id/film/73753&gt;</td><td>&lt;https://triplydb.com/Triply/linkedmdb/id/film/10012&gt;</td><td>1957</td><td>1957</td><td>1957</td><td>1957</td></tr><tr><td>The Beast</td><td>&lt;https://triplydb.com/Triply/linkedmdb/id/film/98079&gt;</td><td>&lt;https://triplydb.com/Triply/linkedmdb/id/film/4582&gt;</td><td>1981-02-06</td><td>1981</td><td>1981</td><td>1981</td></tr><tr><td>The Shipping News</td><td>&lt;https://triplydb.com/Triply/linkedmdb/id/film/39661&gt;</td><td>&lt;https://triplydb.com/Triply/linkedmdb/id/film/36416&gt;</td><td>2001-12-18</td><td>2001-12-18</td><td>2001</td><td>2001</td></tr><tr><td>The Blob</td><td>&lt;https://triplydb.com/Triply/linkedmdb/id/film/40062&gt;</td><td>&lt;https://triplydb.com/Triply/linkedmdb/id/film/34496&gt;</td><td>1958-09-12</td><td>1958-09-12</td><td>1958</td><td>1958</td></tr><tr><td>Sometimes They Come Back</td><td>&lt;https://triplydb.com/Triply/linkedmdb/id/film/33574&gt;</td><td>&lt;https://triplydb.com/Triply/linkedmdb/id/film/42695&gt;</td><td>1974</td><td>1974</td><td>1974</td><td>1974</td></tr><tr><td>Speed Racer</td><td>&lt;https://triplydb.com/Triply/linkedmdb/id/film/33683&gt;</td><td>&lt;https://triplydb.com/Triply/linkedmdb/id/film/12201&gt;</td><td>2008-05-09</td><td>2008-05-09</td><td>2008</td><td>2008</td></tr><tr><td>The Chinese Parrot</td><td>&lt;https://triplydb.com/Triply/linkedmdb/id/film/34664&gt;</td><td>&lt;https://triplydb.com/Triply/linkedmdb/id/film/40049&gt;</td><td>1926</td><td>1926</td><td>1926</td><td>1926</td></tr><tr><td>The Country Girl</td><td>&lt;https://triplydb.com/Triply/linkedmdb/id/film/34742&gt;</td><td>&lt;https://triplydb.com/Triply/linkedmdb/id/film/9357&gt;</td><td>1954</td><td>1954</td><td>1954</td><td>1954</td></tr><tr><td>The Night Flier</td><td>&lt;https://triplydb.com/Triply/linkedmdb/id/film/35964&gt;</td><td>&lt;https://triplydb.com/Triply/linkedmdb/id/film/39775&gt;</td><td>1993</td><td>1993</td><td>1993</td><td>1993</td></tr><tr><td>Under the Volcano</td><td>&lt;https://triplydb.com/Triply/linkedmdb/id/film/37369&gt;</td><td>&lt;https://triplydb.com/Triply/linkedmdb/id/film/38754&gt;</td><td>1947</td><td>1947</td><td>1947</td><td>1947</td></tr><tr><td>The Good Mother</td><td>&lt;https://triplydb.com/Triply/linkedmdb/id/film/10000&gt;</td><td>&lt;https://triplydb.com/Triply/linkedmdb/id/film/15764&gt;</td><td>1988</td><td>1988-11-04</td><td>1988</td><td>1988</td></tr><tr><td>The Garden of the Finzi-Continis</td><td>&lt;https://triplydb.com/Triply/linkedmdb/id/film/10790&gt;</td><td>&lt;https://triplydb.com/Triply/linkedmdb/id/film/35098&gt;</td><td>1970-12-04</td><td>1970-12-04</td><td>1970</td><td>1970</td></tr><tr><td>The Garden of the Finzi-Continis</td><td>&lt;https://triplydb.com/Triply/linkedmdb/id/film/10790&gt;</td><td>&lt;https://triplydb.com/Triply/linkedmdb/id/film/41479&gt;</td><td>1970-12-04</td><td>1970-12-04</td><td>1970</td><td>1970</td></tr><tr><td>The Women</td><td>&lt;https://triplydb.com/Triply/linkedmdb/id/film/11408&gt;</td><td>&lt;https://triplydb.com/Triply/linkedmdb/id/film/36886&gt;</td><td>1939-09-01</td><td>1939-09-01</td><td>1939</td><td>1939</td></tr><tr><td>The Yacoubian Building</td><td>&lt;https://triplydb.com/Triply/linkedmdb/id/film/11864&gt;</td><td>&lt;https://triplydb.com/Triply/linkedmdb/id/film/36920&gt;</td><td>2006-06-21</td><td>2006-06-21</td><td>2006</td><td>2006</td></tr><tr><td>The Yacoubian Building</td><td>&lt;https://triplydb.com/Triply/linkedmdb/id/film/11864&gt;</td><td>&lt;https://triplydb.com/Triply/linkedmdb/id/film/44726&gt;</td><td>2006-06-21</td><td>2006-06-21</td><td>2006</td><td>2006</td></tr><tr><td>The Wiz</td><td>&lt;https://triplydb.com/Triply/linkedmdb/id/film/12152&gt;</td><td>&lt;https://triplydb.com/Triply/linkedmdb/id/film/36875&gt;</td><td>1978-10-24</td><td>1978-10-24</td><td>1978</td><td>1978</td></tr><tr><td>The Innocent</td><td>&lt;https://triplydb.com/Triply/linkedmdb/id/film/12724&gt;</td><td>&lt;https://triplydb.com/Triply/linkedmdb/id/film/35427&gt;</td><td>1985</td><td>1985</td><td>1985</td><td>1985</td></tr><tr><td>The Innocent</td><td>&lt;https://triplydb.com/Triply/linkedmdb/id/film/12724&gt;</td><td>&lt;https://triplydb.com/Triply/linkedmdb/id/film/41814&gt;</td><td>1985</td><td>1985</td><td>1985</td><td>1985</td></tr><tr><td>South Pacific</td><td>&lt;https://triplydb.com/Triply/linkedmdb/id/film/17290&gt;</td><td>&lt;https://triplydb.com/Triply/linkedmdb/id/film/428&gt;</td><td>1958-03-19</td><td>1958</td><td>1958</td><td>1958</td></tr><tr><td>Spirited Away</td><td>&lt;https://triplydb.com/Triply/linkedmdb/id/film/33702&gt;</td><td>&lt;https://triplydb.com/Triply/linkedmdb/id/film/38326&gt;</td><td>2001</td><td>2001</td><td>2001</td><td>2001</td></tr><tr><td>The Big Steal</td><td>&lt;https://triplydb.com/Triply/linkedmdb/id/film/34463&gt;</td><td>&lt;https://triplydb.com/Triply/linkedmdb/id/film/42302&gt;</td><td>1949-07-09</td><td>1949-07-09</td><td>1949</td><td>1949</td></tr><tr><td>The Garden of the Finzi-Continis</td><td>&lt;https://triplydb.com/Triply/linkedmdb/id/film/35098&gt;</td><td>&lt;https://triplydb.com/Triply/linkedmdb/id/film/41479&gt;</td><td>1970-12-04</td><td>1970-12-04</td><td>1970</td><td>1970</td></tr><tr><td>The In-Laws</td><td>&lt;https://triplydb.com/Triply/linkedmdb/id/film/35412&gt;</td><td>&lt;https://triplydb.com/Triply/linkedmdb/id/film/40147&gt;</td><td>1979-06-15</td><td>1979-06-15</td><td>1979</td><td>1979</td></tr><tr><td>The Lion in Winter</td><td>&lt;https://triplydb.com/Triply/linkedmdb/id/film/35630&gt;</td><td>&lt;https://triplydb.com/Triply/linkedmdb/id/film/38239&gt;</td><td>2003-12-26</td><td>2003-12-26</td><td>2003</td><td>2003</td></tr><tr><td>The Plank</td><td>&lt;https://triplydb.com/Triply/linkedmdb/id/film/36115&gt;</td><td>&lt;https://triplydb.com/Triply/linkedmdb/id/film/43711&gt;</td><td>1967</td><td>1967</td><td>1967</td><td>1967</td></tr><tr><td>The Touch</td><td>&lt;https://triplydb.com/Triply/linkedmdb/id/film/36666&gt;</td><td>&lt;https://triplydb.com/Triply/linkedmdb/id/film/41917&gt;</td><td>1971-08-30</td><td>1971-08-30</td><td>1971</td><td>1971</td></tr><tr><td>The Yacoubian Building</td><td>&lt;https://triplydb.com/Triply/linkedmdb/id/film/36920&gt;</td><td>&lt;https://triplydb.com/Triply/linkedmdb/id/film/44726&gt;</td><td>2006-06-21</td><td>2006-06-21</td><td>2006</td><td>2006</td></tr><tr><td>The Getaway</td><td>&lt;https://triplydb.com/Triply/linkedmdb/id/film/4121&gt;</td><td>&lt;https://triplydb.com/Triply/linkedmdb/id/film/86086&gt;</td><td>1994</td><td>1994-02-01</td><td>1994</td><td>1994</td></tr><tr><td>The Innocent</td><td>&lt;https://triplydb.com/Triply/linkedmdb/id/film/35427&gt;</td><td>&lt;https://triplydb.com/Triply/linkedmdb/id/film/41814&gt;</td><td>1985</td><td>1985</td><td>1985</td><td>1985</td></tr><tr><td>Where the Day Takes You</td><td>&lt;https://triplydb.com/Triply/linkedmdb/id/film/10002&gt;</td><td>&lt;https://triplydb.com/Triply/linkedmdb/id/film/18150&gt;</td><td>1992</td><td>1992-09-11</td><td>1992</td><td>1992</td></tr><tr><td>Whistle Down the Wind</td><td>&lt;https://triplydb.com/Triply/linkedmdb/id/film/11535&gt;</td><td>&lt;https://triplydb.com/Triply/linkedmdb/id/film/37758&gt;</td><td>1961</td><td>1961</td><td>1961</td><td>1961</td></tr><tr><td>Whistle Down the Wind</td><td>&lt;https://triplydb.com/Triply/linkedmdb/id/film/11535&gt;</td><td>&lt;https://triplydb.com/Triply/linkedmdb/id/film/39177&gt;</td><td>1961</td><td>1961</td><td>1961</td><td>1961</td></tr><tr><td>Beautiful Girl</td><td>&lt;https://triplydb.com/Triply/linkedmdb/id/film/12875&gt;</td><td>&lt;https://triplydb.com/Triply/linkedmdb/id/film/26425&gt;</td><td>2003</td><td>2003</td><td>2003</td><td>2003</td></tr><tr><td>Beautiful Girl</td><td>&lt;https://triplydb.com/Triply/linkedmdb/id/film/12875&gt;</td><td>&lt;https://triplydb.com/Triply/linkedmdb/id/film/42536&gt;</td><td>2003</td><td>2003</td><td>2003</td><td>2003</td></tr><tr><td>964 Pinocchio</td><td>&lt;https://triplydb.com/Triply/linkedmdb/id/film/14010&gt;</td><td>&lt;https://triplydb.com/Triply/linkedmdb/id/film/4162&gt;</td><td>1991</td><td>1991</td><td>1991</td><td>1991</td></tr><tr><td>Aladdin</td><td>&lt;https://triplydb.com/Triply/linkedmdb/id/film/145&gt;</td><td>&lt;https://triplydb.com/Triply/linkedmdb/id/film/7736&gt;</td><td>1992-11-11</td><td>1992</td><td>1992</td><td>1992</td></tr><tr><td>Cactus Flower</td><td>&lt;https://triplydb.com/Triply/linkedmdb/id/film/15513&gt;</td><td>&lt;https://triplydb.com/Triply/linkedmdb/id/film/26987&gt;</td><td>1969-12-16</td><td>1969</td><td>1969</td><td>1969</td></tr><tr><td>Cactus Flower</td><td>&lt;https://triplydb.com/Triply/linkedmdb/id/film/15513&gt;</td><td>&lt;https://triplydb.com/Triply/linkedmdb/id/film/41248&gt;</td><td>1969-12-16</td><td>1969</td><td>1969</td><td>1969</td></tr><tr><td>Ajnabee</td><td>&lt;https://triplydb.com/Triply/linkedmdb/id/film/49432&gt;</td><td>&lt;https://triplydb.com/Triply/linkedmdb/id/film/25494&gt;</td><td>2001-09-21</td><td>2001</td><td>2001</td><td>2001</td></tr><tr><td>Vice Versa</td><td>&lt;https://triplydb.com/Triply/linkedmdb/id/film/56456&gt;</td><td>&lt;https://triplydb.com/Triply/linkedmdb/id/film/10053&gt;</td><td>1988-03-11</td><td>1988</td><td>1988</td><td>1988</td></tr><tr><td>Veerapandiya Kattabomman</td><td>&lt;https://triplydb.com/Triply/linkedmdb/id/film/12592&gt;</td><td>&lt;https://triplydb.com/Triply/linkedmdb/id/film/37489&gt;</td><td>1959</td><td>1959</td><td>1959</td><td>1959</td></tr><tr><td>Veerapandiya Kattabomman</td><td>&lt;https://triplydb.com/Triply/linkedmdb/id/film/12592&gt;</td><td>&lt;https://triplydb.com/Triply/linkedmdb/id/film/46802&gt;</td><td>1959</td><td>1959</td><td>1959</td><td>1959</td></tr><tr><td>Buddy's Song</td><td>&lt;https://triplydb.com/Triply/linkedmdb/id/film/2722&gt;</td><td>&lt;https://triplydb.com/Triply/linkedmdb/id/film/17076&gt;</td><td>1991</td><td>1991-07-24</td><td>1991</td><td>1991</td></tr><tr><td>Where Love Has Gone</td><td>&lt;https://triplydb.com/Triply/linkedmdb/id/film/37740&gt;</td><td>&lt;https://triplydb.com/Triply/linkedmdb/id/film/49663&gt;</td><td>1962</td><td>1962</td><td>1962</td><td>1962</td></tr><tr><td>Whistle Down the Wind</td><td>&lt;https://triplydb.com/Triply/linkedmdb/id/film/37758&gt;</td><td>&lt;https://triplydb.com/Triply/linkedmdb/id/film/39177&gt;</td><td>1961</td><td>1961</td><td>1961</td><td>1961</td></tr><tr><td>Born on the Fourth of July</td><td>&lt;https://triplydb.com/Triply/linkedmdb/id/film/14197&gt;</td><td>&lt;https://triplydb.com/Triply/linkedmdb/id/film/26774&gt;</td><td>1989-12-20</td><td>1989-12-20</td><td>1989</td><td>1989</td></tr><tr><td>Black Sunday</td><td>&lt;https://triplydb.com/Triply/linkedmdb/id/film/14326&gt;</td><td>&lt;https://triplydb.com/Triply/linkedmdb/id/film/26653&gt;</td><td>1977-03-11</td><td>1977-03-11</td><td>1977</td><td>1977</td></tr><tr><td>The Chronicles of Narnia: The Voyage of the Dawn Treader</td><td>&lt;https://triplydb.com/Triply/linkedmdb/id/film/14502&gt;</td><td>&lt;https://triplydb.com/Triply/linkedmdb/id/film/83230&gt;</td><td>2010-05-07</td><td>2010-12-10</td><td>2010</td><td>2010</td></tr><tr><td>Carmen Jones</td><td>&lt;https://triplydb.com/Triply/linkedmdb/id/film/16202&gt;</td><td>&lt;https://triplydb.com/Triply/linkedmdb/id/film/27055&gt;</td><td>1954-10-05</td><td>1954-10-05</td><td>1954</td><td>1954</td></tr><tr><td>Carmen Jones</td><td>&lt;https://triplydb.com/Triply/linkedmdb/id/film/16202&gt;</td><td>&lt;https://triplydb.com/Triply/linkedmdb/id/film/38341&gt;</td><td>1954-10-05</td><td>1954</td><td>1954</td><td>1954</td></tr><tr><td>Aap Ki Khatir</td><td>&lt;https://triplydb.com/Triply/linkedmdb/id/film/25364&gt;</td><td>&lt;https://triplydb.com/Triply/linkedmdb/id/film/48849&gt;</td><td>2006-08-25</td><td>2006-08-25</td><td>2006</td><td>2006</td></tr><tr><td>All of Me</td><td>&lt;https://triplydb.com/Triply/linkedmdb/id/film/25564&gt;</td><td>&lt;https://triplydb.com/Triply/linkedmdb/id/film/44994&gt;</td><td>1984,1984-09-21</td><td>1984-09-21</td><td>1984</td><td>1984</td></tr><tr><td>American Gun</td><td>&lt;https://triplydb.com/Triply/linkedmdb/id/film/25626&gt;</td><td>&lt;https://triplydb.com/Triply/linkedmdb/id/film/46967&gt;</td><td>2005-09-15</td><td>2005-09-15</td><td>2005</td><td>2005</td></tr><tr><td>Anjaneya</td><td>&lt;https://triplydb.com/Triply/linkedmdb/id/film/25718&gt;</td><td>&lt;https://triplydb.com/Triply/linkedmdb/id/film/40687&gt;</td><td>2003</td><td>2003</td><td>2003</td><td>2003</td></tr><tr><td>Anjaneya</td><td>&lt;https://triplydb.com/Triply/linkedmdb/id/film/25718&gt;</td><td>&lt;https://triplydb.com/Triply/linkedmdb/id/film/15709&gt;</td><td>2003</td><td>2003</td><td>2003</td><td>2003</td></tr><tr><td>A Taste of Honey</td><td>&lt;https://triplydb.com/Triply/linkedmdb/id/film/26190&gt;</td><td>&lt;https://triplydb.com/Triply/linkedmdb/id/film/41756&gt;</td><td>1961-09</td><td>1961-09</td><td>1961</td><td>1961</td></tr><tr><td>Carmen Jones</td><td>&lt;https://triplydb.com/Triply/linkedmdb/id/film/27055&gt;</td><td>&lt;https://triplydb.com/Triply/linkedmdb/id/film/38341&gt;</td><td>1954-10-05</td><td>1954</td><td>1954</td><td>1954</td></tr><tr><td>Veerapandiya Kattabomman</td><td>&lt;https://triplydb.com/Triply/linkedmdb/id/film/37489&gt;</td><td>&lt;https://triplydb.com/Triply/linkedmdb/id/film/46802&gt;</td><td>1959</td><td>1959</td><td>1959</td><td>1959</td></tr><tr><td>Anjaneya</td><td>&lt;https://triplydb.com/Triply/linkedmdb/id/film/40687&gt;</td><td>&lt;https://triplydb.com/Triply/linkedmdb/id/film/15709&gt;</td><td>2003</td><td>2003</td><td>2003</td><td>2003</td></tr><tr><td>Beautiful Girl</td><td>&lt;https://triplydb.com/Triply/linkedmdb/id/film/26425&gt;</td><td>&lt;https://triplydb.com/Triply/linkedmdb/id/film/42536&gt;</td><td>2003</td><td>2003</td><td>2003</td><td>2003</td></tr><tr><td>Cactus Flower</td><td>&lt;https://triplydb.com/Triply/linkedmdb/id/film/26987&gt;</td><td>&lt;https://triplydb.com/Triply/linkedmdb/id/film/41248&gt;</td><td>1969</td><td>1969</td><td>1969</td><td>1969</td></tr><tr><td>Beyond Therapy</td><td>&lt;https://triplydb.com/Triply/linkedmdb/id/film/26537&gt;</td><td>&lt;https://triplydb.com/Triply/linkedmdb/id/film/40293&gt;</td><td>1982</td><td>1982</td><td>1982</td><td>1982</td></tr><tr><td>Critters 2: The Main Course</td><td>&lt;https://triplydb.com/Triply/linkedmdb/id/film/14188&gt;</td><td>&lt;https://triplydb.com/Triply/linkedmdb/id/film/8374&gt;</td><td>1988</td><td>1988</td><td>1988</td><td>1988</td></tr><tr><td>Dangerous Ground</td><td>&lt;https://triplydb.com/Triply/linkedmdb/id/film/16138&gt;</td><td>&lt;https://triplydb.com/Triply/linkedmdb/id/film/27612&gt;</td><td>1997-02-12</td><td>1997-02-12</td><td>1997</td><td>1997</td></tr><tr><td>Dangerous Ground</td><td>&lt;https://triplydb.com/Triply/linkedmdb/id/film/16138&gt;</td><td>&lt;https://triplydb.com/Triply/linkedmdb/id/film/47283&gt;</td><td>1997-02-12</td><td>1997-02-12</td><td>1997</td><td>1997</td></tr><tr><td>Dangerous Ground</td><td>&lt;https://triplydb.com/Triply/linkedmdb/id/film/27612&gt;</td><td>&lt;https://triplydb.com/Triply/linkedmdb/id/film/47283&gt;</td><td>1997-02-12</td><td>1997-02-12</td><td>1997</td><td>1997</td></tr><tr><td>D.E.B.S.</td><td>&lt;https://triplydb.com/Triply/linkedmdb/id/film/41886&gt;</td><td>&lt;https://triplydb.com/Triply/linkedmdb/id/film/27765&gt;</td><td>2005-03-25</td><td>2005-03-25</td><td>2005</td><td>2005</td></tr><tr><td>Chor Machaye Shor</td><td>&lt;https://triplydb.com/Triply/linkedmdb/id/film/46575&gt;</td><td>&lt;https://triplydb.com/Triply/linkedmdb/id/film/27266&gt;</td><td>1996-03-22</td><td>1996,1996-03-22</td><td>1996</td><td>1996</td></tr><tr><td>Educating Rita</td><td>&lt;https://triplydb.com/Triply/linkedmdb/id/film/38604&gt;</td><td>&lt;https://triplydb.com/Triply/linkedmdb/id/film/28189&gt;</td><td>1983-09-14</td><td>1983-09-14</td><td>1983</td><td>1983</td></tr><tr><td>Fletch Won</td><td>&lt;https://triplydb.com/Triply/linkedmdb/id/film/28607&gt;</td><td>&lt;https://triplydb.com/Triply/linkedmdb/id/film/42622&gt;</td><td>1985</td><td>1985</td><td>1985</td><td>1985</td></tr><tr><td>Hard to Be a God</td><td>&lt;https://triplydb.com/Triply/linkedmdb/id/film/29235&gt;</td><td>&lt;https://triplydb.com/Triply/linkedmdb/id/film/43178&gt;</td><td>1964</td><td>1964</td><td>1964</td><td>1964</td></tr><tr><td>City of Joy</td><td>&lt;https://triplydb.com/Triply/linkedmdb/id/film/14294&gt;</td><td>&lt;https://triplydb.com/Triply/linkedmdb/id/film/27322&gt;</td><td>1992</td><td>1992</td><td>1992</td><td>1992</td></tr><tr><td>City of Joy</td><td>&lt;https://triplydb.com/Triply/linkedmdb/id/film/14294&gt;</td><td>&lt;https://triplydb.com/Triply/linkedmdb/id/film/46581&gt;</td><td>1992</td><td>1992</td><td>1992</td><td>1992</td></tr><tr><td>Evolution</td><td>&lt;https://triplydb.com/Triply/linkedmdb/id/film/1557&gt;</td><td>&lt;https://triplydb.com/Triply/linkedmdb/id/film/79364&gt;</td><td>2001-06-08</td><td>2001</td><td>2001</td><td>2001</td></tr><tr><td>Chandramukhi</td><td>&lt;https://triplydb.com/Triply/linkedmdb/id/film/27157&gt;</td><td>&lt;https://triplydb.com/Triply/linkedmdb/id/film/40693&gt;</td><td>2005-04-14</td><td>2005-04-14</td><td>2005</td><td>2005</td></tr><tr><td>City of Joy</td><td>&lt;https://triplydb.com/Triply/linkedmdb/id/film/27322&gt;</td><td>&lt;https://triplydb.com/Triply/linkedmdb/id/film/46581&gt;</td><td>1992</td><td>1992</td><td>1992</td><td>1992</td></tr><tr><td>Girls Town</td><td>&lt;https://triplydb.com/Triply/linkedmdb/id/film/28966&gt;</td><td>&lt;https://triplydb.com/Triply/linkedmdb/id/film/40422&gt;</td><td>1959</td><td>1959</td><td>1959</td><td>1959</td></tr><tr><td>Flesh</td><td>&lt;https://triplydb.com/Triply/linkedmdb/id/film/3832&gt;</td><td>&lt;https://triplydb.com/Triply/linkedmdb/id/film/7888&gt;</td><td>1968</td><td>1968</td><td>1968</td><td>1968</td></tr><tr><td>Catty Cornered</td><td>&lt;https://triplydb.com/Triply/linkedmdb/id/film/39351&gt;</td><td>&lt;https://triplydb.com/Triply/linkedmdb/id/film/27120&gt;</td><td>1953</td><td>1953</td><td>1953</td><td>1953</td></tr><tr><td>Highlander</td><td>&lt;https://triplydb.com/Triply/linkedmdb/id/film/6398&gt;</td><td>&lt;https://triplydb.com/Triply/linkedmdb/id/film/14&gt;</td><td>1986-03-07</td><td>1986</td><td>1986</td><td>1986</td></tr><tr><td>Conspiracy of Silence</td><td>&lt;https://triplydb.com/Triply/linkedmdb/id/film/27433&gt;</td><td>&lt;https://triplydb.com/Triply/linkedmdb/id/film/41021&gt;</td><td>1994</td><td>1994</td><td>1994</td><td>1994</td></tr><tr><td>Desire Under the Elms</td><td>&lt;https://triplydb.com/Triply/linkedmdb/id/film/27839&gt;</td><td>&lt;https://triplydb.com/Triply/linkedmdb/id/film/44086&gt;</td><td>1924</td><td>1924</td><td>1924</td><td>1924</td></tr><tr><td>Critters 4</td><td>&lt;https://triplydb.com/Triply/linkedmdb/id/film/14189&gt;</td><td>&lt;https://triplydb.com/Triply/linkedmdb/id/film/8376&gt;</td><td>1991</td><td>1991</td><td>1991</td><td>1991</td></tr><tr><td>Danton</td><td>&lt;https://triplydb.com/Triply/linkedmdb/id/film/97951&gt;</td><td>&lt;https://triplydb.com/Triply/linkedmdb/id/film/97953&gt;</td><td>1921</td><td>1921</td><td>1921</td><td>1921</td></tr><tr><td>Junior G-Men</td><td>&lt;https://triplydb.com/Triply/linkedmdb/id/film/15479&gt;</td><td>&lt;https://triplydb.com/Triply/linkedmdb/id/film/30084&gt;</td><td>1940</td><td>1940</td><td>1940</td><td>1940</td></tr><tr><td>Junior G-Men</td><td>&lt;https://triplydb.com/Triply/linkedmdb/id/film/15479&gt;</td><td>&lt;https://triplydb.com/Triply/linkedmdb/id/film/48623&gt;</td><td>1940</td><td>1940</td><td>1940</td><td>1940</td></tr><tr><td>Last Orders</td><td>&lt;https://triplydb.com/Triply/linkedmdb/id/film/16960&gt;</td><td>&lt;https://triplydb.com/Triply/linkedmdb/id/film/30463&gt;</td><td>2001-09-10</td><td>2001-09-10</td><td>2001</td><td>2001</td></tr><tr><td>Mere Jeevan Saathi</td><td>&lt;https://triplydb.com/Triply/linkedmdb/id/film/31218&gt;</td><td>&lt;https://triplydb.com/Triply/linkedmdb/id/film/47344&gt;</td><td>2006-02-03</td><td>2006-02-03</td><td>2006</td><td>2006</td></tr><tr><td>Musafir</td><td>&lt;https://triplydb.com/Triply/linkedmdb/id/film/31516&gt;</td><td>&lt;https://triplydb.com/Triply/linkedmdb/id/film/41759&gt;</td><td>2004,2004-12-09</td><td>2004-12-09</td><td>2004</td><td>2004</td></tr><tr><td>Just Married</td><td>&lt;https://triplydb.com/Triply/linkedmdb/id/film/39515&gt;</td><td>&lt;https://triplydb.com/Triply/linkedmdb/id/film/30100&gt;</td><td>2003-01-10</td><td>2003-01-10</td><td>2003</td><td>2003</td></tr><tr><td>My Father the Hero</td><td>&lt;https://triplydb.com/Triply/linkedmdb/id/film/41054&gt;</td><td>&lt;https://triplydb.com/Triply/linkedmdb/id/film/31561&gt;</td><td>1991</td><td>1991</td><td>1991</td><td>1991</td></tr><tr><td>My Sassy Girl</td><td>&lt;https://triplydb.com/Triply/linkedmdb/id/film/41508&gt;</td><td>&lt;https://triplydb.com/Triply/linkedmdb/id/film/31607&gt;</td><td>2001-07-27</td><td>2001</td><td>2001</td><td>2001</td></tr><tr><td>Kid Galahad</td><td>&lt;https://triplydb.com/Triply/linkedmdb/id/film/41907&gt;</td><td>&lt;https://triplydb.com/Triply/linkedmdb/id/film/30240&gt;</td><td>1962-08-11</td><td>1962-08-11</td><td>1962</td><td>1962</td></tr><tr><td>House on Haunted Hill</td><td>&lt;https://triplydb.com/Triply/linkedmdb/id/film/39790&gt;</td><td>&lt;https://triplydb.com/Triply/linkedmdb/id/film/29537&gt;</td><td>1959-02-17</td><td>1959-02-17</td><td>1959</td><td>1959</td></tr><tr><td>Iron Monkey</td><td>&lt;https://triplydb.com/Triply/linkedmdb/id/film/42435&gt;</td><td>&lt;https://triplydb.com/Triply/linkedmdb/id/film/29818&gt;</td><td>1993</td><td>1993</td><td>1993</td><td>1993</td></tr><tr><td>Honeymoon Hotel</td><td>&lt;https://triplydb.com/Triply/linkedmdb/id/film/29459&gt;</td><td>&lt;https://triplydb.com/Triply/linkedmdb/id/film/41134&gt;</td><td>1934</td><td>1934</td><td>1934</td><td>1934</td></tr><tr><td>Jugnu</td><td>&lt;https://triplydb.com/Triply/linkedmdb/id/film/30067&gt;</td><td>&lt;https://triplydb.com/Triply/linkedmdb/id/film/46988&gt;</td><td>1973</td><td>1973</td><td>1973</td><td>1973</td></tr><tr><td>Junior G-Men</td><td>&lt;https://triplydb.com/Triply/linkedmdb/id/film/30084&gt;</td><td>&lt;https://triplydb.com/Triply/linkedmdb/id/film/48623&gt;</td><td>1940</td><td>1940</td><td>1940</td><td>1940</td></tr><tr><td>Lansky</td><td>&lt;https://triplydb.com/Triply/linkedmdb/id/film/30439&gt;</td><td>&lt;https://triplydb.com/Triply/linkedmdb/id/film/14820&gt;</td><td>1999</td><td>1999-02-27</td><td>1999</td><td>1999</td></tr></table>"
      ],
      "text/plain": [
       "<IPython.core.display.HTML object>"
      ]
     },
     "metadata": {},
     "output_type": "display_data"
    }
   ],
   "source": [
    "%%rdf sparql --endpoint https://api.triplydb.com/datasets/Triply/linkedmdb/services/linkedmdb/sparql\n",
    "PREFIX rdfs: <http://www.w3.org/2000/01/rdf-schema#>\n",
    "PREFIX lmdb: <https://triplydb.com/Triply/linkedmdb/vocab/>\n",
    "PREFIX dc: <http://purl.org/dc/terms/>\n",
    "\n",
    "SELECT distinct ?title ?movie1 ?movie2 ?date1 ?date2 ?year1 ?year2\n",
    "WHERE {\n",
    "    ?movie1 dc:title ?title ;\n",
    "            dc:date ?date1 .\n",
    "    ?movie2 dc:title ?title ;\n",
    "            dc:date ?date2 .\n",
    "  BIND(SUBSTR(?date1, 1, 4) AS ?year1) .\n",
    "  BIND(SUBSTR(?date2, 1, 4) AS ?year2) .\n",
    "  FILTER(?movie1 < ?movie2 && ?title != \"\" && ?year1 != \"\" && ?year2 != \"\" && ?year1 = ?year2)\n",
    "}\n",
    "LIMIT 200\n",
    "\n",
    "## Duplicates can be found anywhere. It is difficult to distinguish them based on the filmid\n",
    "## A larger list (10.000) of results can be obtained by applying this query without limiting on \n",
    "## https://triplydb.com/Triply/linkedmdb/sparql/linkedmdb"
   ]
  },
  {
   "cell_type": "markdown",
   "id": "6b6dbcaf",
   "metadata": {},
   "source": [
    "### Looking for amount of duplicates per year"
   ]
  },
  {
   "cell_type": "code",
   "execution_count": 5,
   "id": "b25be974",
   "metadata": {},
   "outputs": [
    {
     "data": {
      "text/html": [
       "<table><tr><th>year1</th><th>amountMovies</th></tr><tr><td>1888</td><td>1^^http://www.w3.org/2001/XMLSchema#integer</td></tr><tr><td>1891</td><td>1^^http://www.w3.org/2001/XMLSchema#integer</td></tr><tr><td>1892</td><td>1^^http://www.w3.org/2001/XMLSchema#integer</td></tr><tr><td>1893</td><td>1^^http://www.w3.org/2001/XMLSchema#integer</td></tr><tr><td>1894</td><td>1^^http://www.w3.org/2001/XMLSchema#integer</td></tr><tr><td>1897</td><td>1^^http://www.w3.org/2001/XMLSchema#integer</td></tr><tr><td>1898</td><td>3^^http://www.w3.org/2001/XMLSchema#integer</td></tr><tr><td>1899</td><td>1^^http://www.w3.org/2001/XMLSchema#integer</td></tr><tr><td>1900</td><td>1^^http://www.w3.org/2001/XMLSchema#integer</td></tr><tr><td>1901</td><td>1^^http://www.w3.org/2001/XMLSchema#integer</td></tr><tr><td>1902</td><td>3^^http://www.w3.org/2001/XMLSchema#integer</td></tr><tr><td>1903</td><td>1^^http://www.w3.org/2001/XMLSchema#integer</td></tr><tr><td>1904</td><td>2^^http://www.w3.org/2001/XMLSchema#integer</td></tr><tr><td>1905</td><td>1^^http://www.w3.org/2001/XMLSchema#integer</td></tr><tr><td>1906</td><td>1^^http://www.w3.org/2001/XMLSchema#integer</td></tr><tr><td>1907</td><td>3^^http://www.w3.org/2001/XMLSchema#integer</td></tr><tr><td>1908</td><td>2^^http://www.w3.org/2001/XMLSchema#integer</td></tr><tr><td>1909</td><td>5^^http://www.w3.org/2001/XMLSchema#integer</td></tr><tr><td>1910</td><td>3^^http://www.w3.org/2001/XMLSchema#integer</td></tr><tr><td>1911</td><td>8^^http://www.w3.org/2001/XMLSchema#integer</td></tr><tr><td>1912</td><td>35^^http://www.w3.org/2001/XMLSchema#integer</td></tr><tr><td>1913</td><td>22^^http://www.w3.org/2001/XMLSchema#integer</td></tr><tr><td>1914</td><td>38^^http://www.w3.org/2001/XMLSchema#integer</td></tr><tr><td>1915</td><td>23^^http://www.w3.org/2001/XMLSchema#integer</td></tr><tr><td>1916</td><td>14^^http://www.w3.org/2001/XMLSchema#integer</td></tr><tr><td>1917</td><td>10^^http://www.w3.org/2001/XMLSchema#integer</td></tr><tr><td>1918</td><td>17^^http://www.w3.org/2001/XMLSchema#integer</td></tr><tr><td>1919</td><td>12^^http://www.w3.org/2001/XMLSchema#integer</td></tr><tr><td>1920</td><td>8^^http://www.w3.org/2001/XMLSchema#integer</td></tr><tr><td>1921</td><td>16^^http://www.w3.org/2001/XMLSchema#integer</td></tr><tr><td>1922</td><td>14^^http://www.w3.org/2001/XMLSchema#integer</td></tr><tr><td>1923</td><td>18^^http://www.w3.org/2001/XMLSchema#integer</td></tr><tr><td>1924</td><td>13^^http://www.w3.org/2001/XMLSchema#integer</td></tr><tr><td>1925</td><td>15^^http://www.w3.org/2001/XMLSchema#integer</td></tr><tr><td>1926</td><td>22^^http://www.w3.org/2001/XMLSchema#integer</td></tr><tr><td>1927</td><td>25^^http://www.w3.org/2001/XMLSchema#integer</td></tr><tr><td>1928</td><td>43^^http://www.w3.org/2001/XMLSchema#integer</td></tr><tr><td>1929</td><td>39^^http://www.w3.org/2001/XMLSchema#integer</td></tr><tr><td>1930</td><td>40^^http://www.w3.org/2001/XMLSchema#integer</td></tr><tr><td>1931</td><td>43^^http://www.w3.org/2001/XMLSchema#integer</td></tr><tr><td>1932</td><td>40^^http://www.w3.org/2001/XMLSchema#integer</td></tr><tr><td>1933</td><td>40^^http://www.w3.org/2001/XMLSchema#integer</td></tr><tr><td>1934</td><td>51^^http://www.w3.org/2001/XMLSchema#integer</td></tr><tr><td>1935</td><td>50^^http://www.w3.org/2001/XMLSchema#integer</td></tr><tr><td>1936</td><td>65^^http://www.w3.org/2001/XMLSchema#integer</td></tr><tr><td>1937</td><td>51^^http://www.w3.org/2001/XMLSchema#integer</td></tr><tr><td>1938</td><td>41^^http://www.w3.org/2001/XMLSchema#integer</td></tr><tr><td>1939</td><td>51^^http://www.w3.org/2001/XMLSchema#integer</td></tr><tr><td>1940</td><td>67^^http://www.w3.org/2001/XMLSchema#integer</td></tr><tr><td>1941</td><td>68^^http://www.w3.org/2001/XMLSchema#integer</td></tr><tr><td>1942</td><td>68^^http://www.w3.org/2001/XMLSchema#integer</td></tr><tr><td>1943</td><td>75^^http://www.w3.org/2001/XMLSchema#integer</td></tr><tr><td>1944</td><td>63^^http://www.w3.org/2001/XMLSchema#integer</td></tr><tr><td>1945</td><td>63^^http://www.w3.org/2001/XMLSchema#integer</td></tr><tr><td>1946</td><td>63^^http://www.w3.org/2001/XMLSchema#integer</td></tr><tr><td>1947</td><td>64^^http://www.w3.org/2001/XMLSchema#integer</td></tr><tr><td>1948</td><td>69^^http://www.w3.org/2001/XMLSchema#integer</td></tr><tr><td>1949</td><td>67^^http://www.w3.org/2001/XMLSchema#integer</td></tr><tr><td>1950</td><td>82^^http://www.w3.org/2001/XMLSchema#integer</td></tr><tr><td>1951</td><td>67^^http://www.w3.org/2001/XMLSchema#integer</td></tr><tr><td>1952</td><td>68^^http://www.w3.org/2001/XMLSchema#integer</td></tr><tr><td>1953</td><td>80^^http://www.w3.org/2001/XMLSchema#integer</td></tr><tr><td>1954</td><td>68^^http://www.w3.org/2001/XMLSchema#integer</td></tr><tr><td>1955</td><td>78^^http://www.w3.org/2001/XMLSchema#integer</td></tr><tr><td>1956</td><td>70^^http://www.w3.org/2001/XMLSchema#integer</td></tr><tr><td>1957</td><td>100^^http://www.w3.org/2001/XMLSchema#integer</td></tr><tr><td>1958</td><td>94^^http://www.w3.org/2001/XMLSchema#integer</td></tr><tr><td>1959</td><td>83^^http://www.w3.org/2001/XMLSchema#integer</td></tr><tr><td>1960</td><td>88^^http://www.w3.org/2001/XMLSchema#integer</td></tr><tr><td>1961</td><td>67^^http://www.w3.org/2001/XMLSchema#integer</td></tr><tr><td>1962</td><td>93^^http://www.w3.org/2001/XMLSchema#integer</td></tr><tr><td>1963</td><td>76^^http://www.w3.org/2001/XMLSchema#integer</td></tr><tr><td>1964</td><td>101^^http://www.w3.org/2001/XMLSchema#integer</td></tr><tr><td>1965</td><td>102^^http://www.w3.org/2001/XMLSchema#integer</td></tr><tr><td>1966</td><td>100^^http://www.w3.org/2001/XMLSchema#integer</td></tr><tr><td>1967</td><td>96^^http://www.w3.org/2001/XMLSchema#integer</td></tr><tr><td>1968</td><td>83^^http://www.w3.org/2001/XMLSchema#integer</td></tr><tr><td>1969</td><td>93^^http://www.w3.org/2001/XMLSchema#integer</td></tr><tr><td>1970</td><td>99^^http://www.w3.org/2001/XMLSchema#integer</td></tr><tr><td>1971</td><td>116^^http://www.w3.org/2001/XMLSchema#integer</td></tr><tr><td>1972</td><td>102^^http://www.w3.org/2001/XMLSchema#integer</td></tr><tr><td>1973</td><td>101^^http://www.w3.org/2001/XMLSchema#integer</td></tr><tr><td>1974</td><td>118^^http://www.w3.org/2001/XMLSchema#integer</td></tr><tr><td>1975</td><td>97^^http://www.w3.org/2001/XMLSchema#integer</td></tr><tr><td>1976</td><td>85^^http://www.w3.org/2001/XMLSchema#integer</td></tr><tr><td>1977</td><td>96^^http://www.w3.org/2001/XMLSchema#integer</td></tr><tr><td>1978</td><td>95^^http://www.w3.org/2001/XMLSchema#integer</td></tr><tr><td>1979</td><td>96^^http://www.w3.org/2001/XMLSchema#integer</td></tr><tr><td>1980</td><td>121^^http://www.w3.org/2001/XMLSchema#integer</td></tr><tr><td>1981</td><td>109^^http://www.w3.org/2001/XMLSchema#integer</td></tr><tr><td>1982</td><td>110^^http://www.w3.org/2001/XMLSchema#integer</td></tr><tr><td>1983</td><td>134^^http://www.w3.org/2001/XMLSchema#integer</td></tr><tr><td>1984</td><td>128^^http://www.w3.org/2001/XMLSchema#integer</td></tr><tr><td>1985</td><td>148^^http://www.w3.org/2001/XMLSchema#integer</td></tr><tr><td>1986</td><td>124^^http://www.w3.org/2001/XMLSchema#integer</td></tr><tr><td>1987</td><td>170^^http://www.w3.org/2001/XMLSchema#integer</td></tr><tr><td>1988</td><td>169^^http://www.w3.org/2001/XMLSchema#integer</td></tr><tr><td>1989</td><td>160^^http://www.w3.org/2001/XMLSchema#integer</td></tr><tr><td>1990</td><td>158^^http://www.w3.org/2001/XMLSchema#integer</td></tr><tr><td>1991</td><td>162^^http://www.w3.org/2001/XMLSchema#integer</td></tr><tr><td>1992</td><td>164^^http://www.w3.org/2001/XMLSchema#integer</td></tr><tr><td>1993</td><td>204^^http://www.w3.org/2001/XMLSchema#integer</td></tr><tr><td>1994</td><td>190^^http://www.w3.org/2001/XMLSchema#integer</td></tr><tr><td>1995</td><td>207^^http://www.w3.org/2001/XMLSchema#integer</td></tr><tr><td>1996</td><td>247^^http://www.w3.org/2001/XMLSchema#integer</td></tr><tr><td>1997</td><td>245^^http://www.w3.org/2001/XMLSchema#integer</td></tr><tr><td>1998</td><td>274^^http://www.w3.org/2001/XMLSchema#integer</td></tr><tr><td>1999</td><td>289^^http://www.w3.org/2001/XMLSchema#integer</td></tr><tr><td>2000</td><td>320^^http://www.w3.org/2001/XMLSchema#integer</td></tr><tr><td>2001</td><td>344^^http://www.w3.org/2001/XMLSchema#integer</td></tr><tr><td>2002</td><td>350^^http://www.w3.org/2001/XMLSchema#integer</td></tr><tr><td>2003</td><td>464^^http://www.w3.org/2001/XMLSchema#integer</td></tr><tr><td>2004</td><td>496^^http://www.w3.org/2001/XMLSchema#integer</td></tr><tr><td>2005</td><td>512^^http://www.w3.org/2001/XMLSchema#integer</td></tr><tr><td>2006</td><td>483^^http://www.w3.org/2001/XMLSchema#integer</td></tr><tr><td>2007</td><td>185^^http://www.w3.org/2001/XMLSchema#integer</td></tr><tr><td>2008</td><td>89^^http://www.w3.org/2001/XMLSchema#integer</td></tr><tr><td>2009</td><td>87^^http://www.w3.org/2001/XMLSchema#integer</td></tr><tr><td>2010</td><td>7^^http://www.w3.org/2001/XMLSchema#integer</td></tr><tr><td>2011</td><td>1^^http://www.w3.org/2001/XMLSchema#integer</td></tr></table>"
      ],
      "text/plain": [
       "<IPython.core.display.HTML object>"
      ]
     },
     "metadata": {},
     "output_type": "display_data"
    }
   ],
   "source": [
    "%%rdf sparql --endpoint https://api.triplydb.com/datasets/Triply/linkedmdb/services/linkedmdb/sparql\n",
    "PREFIX rdfs: <http://www.w3.org/2000/01/rdf-schema#>\n",
    "PREFIX lmdb: <https://triplydb.com/Triply/linkedmdb/vocab/>\n",
    "PREFIX dc: <http://purl.org/dc/terms/>\n",
    "\n",
    "SELECT distinct ?year1 (COUNT(DISTINCT ?movie1) as ?amountMovies)\n",
    "WHERE {\n",
    "    ?movie1 dc:title ?title ;\n",
    "            dc:date ?date1 .\n",
    "    ?movie2 dc:title ?title ;\n",
    "            dc:date ?date2 .\n",
    "  BIND(SUBSTR(?date1, 1, 4) AS ?year1) .\n",
    "  BIND(SUBSTR(?date2, 1, 4) AS ?year2) .\n",
    "  FILTER(?movie1 < ?movie2 && ?title != \"\" && ?year1 != \"\" && ?year2 != \"\" && ?year1 = ?year2)\n",
    "}\n",
    "GROUP BY ?year1\n",
    "ORDER BY ?year1"
   ]
  },
  {
   "cell_type": "markdown",
   "id": "6144bc6f",
   "metadata": {},
   "source": [
    "### Example Query for finding a movie"
   ]
  },
  {
   "cell_type": "code",
   "execution_count": 6,
   "id": "f225439a",
   "metadata": {},
   "outputs": [
    {
     "data": {
      "text/html": [
       "<table><tr><th>movie</th><th>date</th><th>directors</th></tr><tr><td>&lt;https://triplydb.com/Triply/linkedmdb/id/film/4368&gt;</td><td>1999</td><td>Nick Willing, Michael Winterbottom, Nick Willing</td></tr><tr><td>&lt;https://triplydb.com/Triply/linkedmdb/id/film/4369&gt;</td><td>1903</td><td>Cecil Hepworth, Cecil Hepworth</td></tr><tr><td>&lt;https://triplydb.com/Triply/linkedmdb/id/film/548&gt;</td><td>1985</td><td>Harry Harris, Harry Harris, Harry Harris</td></tr><tr><td>&lt;https://triplydb.com/Triply/linkedmdb/id/film/3476&gt;</td><td>1976-12-10</td><td>Bud Townsend</td></tr><tr><td>&lt;https://triplydb.com/Triply/linkedmdb/id/film/65505&gt;</td><td>2010-03-05</td><td>Tim Burton</td></tr><tr><td>&lt;https://triplydb.com/Triply/linkedmdb/id/film/115&gt;</td><td>1933,1933-12-22</td><td>Norman Z. McLeod</td></tr><tr><td>&lt;https://triplydb.com/Triply/linkedmdb/id/film/1388&gt;</td><td>1951-07-28</td><td>Wilfred Jackson, Wilfred Jackson, Clyde Geronimi, Hamilton Luske, Clyde Geronimi</td></tr></table>"
      ],
      "text/plain": [
       "<IPython.core.display.HTML object>"
      ]
     },
     "metadata": {},
     "output_type": "display_data"
    }
   ],
   "source": [
    "%%rdf sparql --endpoint https://api.triplydb.com/datasets/Triply/linkedmdb/services/linkedmdb/sparql\n",
    "PREFIX rdfs: <http://www.w3.org/2000/01/rdf-schema#>\n",
    "PREFIX lmdb: <https://triplydb.com/Triply/linkedmdb/vocab/>\n",
    "PREFIX dc: <http://purl.org/dc/terms/>\n",
    "\n",
    "SELECT distinct ?movie ?date (GROUP_CONCAT(?directorName; SEPARATOR=\", \") AS ?directors)\n",
    "WHERE {\n",
    "    ?director a lmdb:Director ;\n",
    "                lmdb:director_name ?directorName .\n",
    "    ?movie a lmdb:Film ;\n",
    "             lmdb:director ?director ;\n",
    "             dc:title \"Alice in Wonderland\" ;\n",
    "             dc:date ?date .\n",
    "}\n",
    "\n",
    "## The same director is occurring multiple times due to the fact \n",
    "## that there are duplicates of directors in the knowledge graph"
   ]
  },
  {
   "cell_type": "code",
   "execution_count": 7,
   "id": "0dff7caa",
   "metadata": {},
   "outputs": [
    {
     "data": {
      "text/html": [
       "<table><tr><th>movie</th><th>date</th><th>directors</th></tr><tr><td>&lt;https://triplydb.com/Triply/linkedmdb/id/film/4368&gt;</td><td>1999</td><td>Michael Winterbottom, Nick Willing</td></tr><tr><td>&lt;https://triplydb.com/Triply/linkedmdb/id/film/4369&gt;</td><td>1903</td><td>Cecil Hepworth</td></tr><tr><td>&lt;https://triplydb.com/Triply/linkedmdb/id/film/548&gt;</td><td>1985</td><td>Harry Harris</td></tr><tr><td>&lt;https://triplydb.com/Triply/linkedmdb/id/film/3476&gt;</td><td>1976-12-10</td><td>Bud Townsend</td></tr><tr><td>&lt;https://triplydb.com/Triply/linkedmdb/id/film/65505&gt;</td><td>2010-03-05</td><td>Tim Burton</td></tr><tr><td>&lt;https://triplydb.com/Triply/linkedmdb/id/film/115&gt;</td><td>1933,1933-12-22</td><td>Norman Z. McLeod</td></tr><tr><td>&lt;https://triplydb.com/Triply/linkedmdb/id/film/1388&gt;</td><td>1951-07-28</td><td>Clyde Geronimi, Hamilton Luske, Wilfred Jackson</td></tr></table>"
      ],
      "text/plain": [
       "<IPython.core.display.HTML object>"
      ]
     },
     "metadata": {},
     "output_type": "display_data"
    }
   ],
   "source": [
    "%%rdf sparql --endpoint https://api.triplydb.com/datasets/Triply/linkedmdb/services/linkedmdb/sparql\n",
    "PREFIX rdfs: <http://www.w3.org/2000/01/rdf-schema#>\n",
    "PREFIX lmdb: <https://triplydb.com/Triply/linkedmdb/vocab/>\n",
    "PREFIX dc: <http://purl.org/dc/terms/>\n",
    "\n",
    "SELECT distinct ?movie ?date (GROUP_CONCAT(DISTINCT ?directorName; SEPARATOR=\", \") AS ?directors)\n",
    "WHERE {\n",
    "    ?director a lmdb:Director ;\n",
    "                lmdb:director_name ?directorName .\n",
    "    ?movie a lmdb:Film ;\n",
    "             lmdb:director ?director ;\n",
    "             dc:title \"Alice in Wonderland\" ;\n",
    "             dc:date ?date .\n",
    "}\n",
    "\n",
    "## Problem solved by only considering distinct director names"
   ]
  },
  {
   "cell_type": "markdown",
   "id": "06acb1d6",
   "metadata": {},
   "source": [
    "### Function to get a list of movies based on a given title"
   ]
  },
  {
   "cell_type": "code",
   "execution_count": 8,
   "id": "2839a9d0",
   "metadata": {},
   "outputs": [],
   "source": [
    "from SPARQLWrapper import SPARQLWrapper, JSON\n",
    "\n",
    "LMDB_PREFIX = \"<https://triplydb.com/Triply/linkedmdb/vocab/>\"\n",
    "SPARQL_ENDPOINT = \"https://api.triplydb.com/datasets/Triply/linkedmdb/services/linkedmdb/sparql\"\n",
    "\n",
    "def get_movie_id(movie_title):\n",
    "    query_str = f\"\"\"\n",
    "    PREFIX lmdb: {LMDB_PREFIX}\n",
    "\n",
    "    SELECT distinct ?movie ?year (GROUP_CONCAT(DISTINCT ?directorName; SEPARATOR=\", \") AS ?directors)\n",
    "    WHERE {{\n",
    "      ?director a lmdb:Director .\n",
    "      ?director lmdb:director_name ?directorName .\n",
    "      ?movie a lmdb:Film .\n",
    "      ?movie <http://purl.org/dc/terms/title> \"{movie_title}\" .\n",
    "      ?movie lmdb:director ?director .\n",
    "      ?movie <http://purl.org/dc/terms/date> ?date .\n",
    "      BIND(SUBSTR(?date, 1, 4) AS ?year) .\n",
    "    }}\n",
    "    \"\"\"\n",
    "    \n",
    "    sparql = SPARQLWrapper(SPARQL_ENDPOINT)\n",
    "    sparql.setQuery(query_str)\n",
    "    sparql.setReturnFormat(JSON)\n",
    "    results = sparql.query().convert()\n",
    "    \n",
    "    movie_ids = []\n",
    "    for result in results[\"results\"][\"bindings\"]:\n",
    "        movie_id = result[\"movie\"][\"value\"].split('/')[-1]\n",
    "        movie_director = result[\"directors\"][\"value\"]\n",
    "        movie_year = result[\"year\"][\"value\"]\n",
    "        movie_ids.append({\"movie_id\": movie_id, \"movie_title\": movie_title, \"movie_director\": movie_director, \"movie_year\": movie_year})\n",
    "\n",
    "    return movie_ids\n",
    "\n",
    "def print_movies(movie_list):\n",
    "    print(\"Found movies\")\n",
    "    for i in range(len(movie_list)):\n",
    "        print(f\"{i} - {movie_list[i]['movie_title']} ({movie_list[i]['movie_year']}, {movie_list[i]['movie_director']})\")"
   ]
  },
  {
   "cell_type": "code",
   "execution_count": 9,
   "id": "f12c86f1",
   "metadata": {},
   "outputs": [
    {
     "name": "stdout",
     "output_type": "stream",
     "text": [
      "Found movies\n",
      "0 - Titanic (1943, Herbert Selpin, Werner Klingler)\n",
      "1 - Titanic (1953, Jean Negulesco)\n",
      "2 - Titanic (1997, James Cameron)\n",
      "3 - Titanic (1996, Robert Lieberman)\n"
     ]
    }
   ],
   "source": [
    "print_movies(get_movie_id(\"Titanic\"))"
   ]
  },
  {
   "cell_type": "code",
   "execution_count": 10,
   "id": "be349bcc",
   "metadata": {},
   "outputs": [
    {
     "name": "stdout",
     "output_type": "stream",
     "text": [
      "Found movies\n",
      "0 - Apocalypse Now (1979, Francis Ford Coppola)\n",
      "1 - Apocalypse Now (1979, Francis Ford Coppola)\n"
     ]
    }
   ],
   "source": [
    "print_movies(get_movie_id(\"Apocalypse Now\"))\n",
    "\n",
    "## Problem: Duplicates\n",
    "## Possible options:\n",
    "## 1.) Show all alternatives\n",
    "## 2.) Show the option with the smallest/largest movie id"
   ]
  },
  {
   "cell_type": "code",
   "execution_count": null,
   "id": "c508c224",
   "metadata": {},
   "outputs": [],
   "source": []
  }
 ],
 "metadata": {
  "kernelspec": {
   "display_name": "Python 3 (ipykernel)",
   "language": "python",
   "name": "python3"
  },
  "language_info": {
   "codemirror_mode": {
    "name": "ipython",
    "version": 3
   },
   "file_extension": ".py",
   "mimetype": "text/x-python",
   "name": "python",
   "nbconvert_exporter": "python",
   "pygments_lexer": "ipython3",
   "version": "3.11.4"
  }
 },
 "nbformat": 4,
 "nbformat_minor": 5
}
