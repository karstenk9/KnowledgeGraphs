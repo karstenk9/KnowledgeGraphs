{
 "cells": [
  {
   "cell_type": "code",
   "execution_count": 2,
   "metadata": {
    "collapsed": true,
    "pycharm": {
     "name": "#%%\n"
    }
   },
   "outputs": [
    {
     "name": "stdout",
     "output_type": "stream",
     "text": [
      "Collecting SPARQLWrapper\n",
      "  Using cached SPARQLWrapper-2.0.0-py3-none-any.whl (28 kB)\n",
      "Requirement already satisfied: rdflib>=6.1.1 in c:\\users\\karstenk\\anaconda3\\lib\\site-packages (from SPARQLWrapper) (7.0.0)\n",
      "Requirement already satisfied: isodate<0.7.0,>=0.6.0 in c:\\users\\karstenk\\anaconda3\\lib\\site-packages (from rdflib>=6.1.1->SPARQLWrapper) (0.6.1)\n",
      "Requirement already satisfied: pyparsing<4,>=2.1.0 in c:\\users\\karstenk\\anaconda3\\lib\\site-packages (from rdflib>=6.1.1->SPARQLWrapper) (3.0.4)\n",
      "Requirement already satisfied: six in c:\\users\\karstenk\\anaconda3\\lib\\site-packages (from isodate<0.7.0,>=0.6.0->rdflib>=6.1.1->SPARQLWrapper) (1.16.0)\n",
      "Installing collected packages: SPARQLWrapper\n",
      "Successfully installed SPARQLWrapper-2.0.0\n"
     ]
    }
   ],
   "source": [
    "!pip install SPARQLWrapper"
   ]
  },
  {
   "cell_type": "code",
   "execution_count": 3,
   "outputs": [],
   "source": [
    "from SPARQLWrapper import SPARQLWrapper, JSON"
   ],
   "metadata": {
    "collapsed": false,
    "pycharm": {
     "name": "#%%\n"
    }
   }
  },
  {
   "cell_type": "code",
   "execution_count": 29,
   "outputs": [],
   "source": [
    "LMDB_PREFIX = \"<https://triplydb.com/Triply/linkedmdb/vocab/>\"\n",
    "SPARQL_ENDPOINT = \"https://api.triplydb.com/datasets/Triply/linkedmdb/services/linkedmdb/sparql\"\n",
    "PROPERTY_NAMES = [\"actor\", \"director\", \"genre\"]  # must be from lmdb namespace"
   ],
   "metadata": {
    "collapsed": false,
    "pycharm": {
     "name": "#%%\n"
    }
   }
  },
  {
   "cell_type": "code",
   "execution_count": 115,
   "outputs": [],
   "source": [
    "def get_movie_properties(movie):\n",
    "\n",
    "    select_line = (\" \").join([\"?\"+prop for prop in PROPERTY_NAMES])\n",
    "    where_clause_lines = [f\"\\t\\t{movie} lmdb:{prop} ?{prop} .\" for prop in PROPERTY_NAMES]\n",
    "    where_clause = (\"\\n\").join(where_clause_lines)\n",
    "\n",
    "    query_str = f\"\"\"\n",
    "    PREFIX lmdb: {LMDB_PREFIX}\n",
    "\n",
    "    SELECT {select_line}\n",
    "    WHERE {{\n",
    "{where_clause}\n",
    "    }}\n",
    "    \"\"\"\n",
    "\n",
    "    sparql = SPARQLWrapper(SPARQL_ENDPOINT)\n",
    "    sparql.setQuery(query_str)\n",
    "    sparql.setReturnFormat(JSON)\n",
    "    results = sparql.query().convert()\n",
    "\n",
    "    properties = {prop: set() for prop in PROPERTY_NAMES}\n",
    "\n",
    "    for result in results[\"results\"][\"bindings\"]:\n",
    "        for prop in PROPERTY_NAMES:\n",
    "            if prop in result:\n",
    "                properties[prop].add(result[prop][\"value\"])\n",
    "\n",
    "    return properties"
   ],
   "metadata": {
    "collapsed": false,
    "pycharm": {
     "name": "#%%\n"
    }
   }
  },
  {
   "cell_type": "code",
   "execution_count": 120,
   "outputs": [],
   "source": [
    "def get_movie_recommendations(properties):\n",
    "\n",
    "    property_lines = []\n",
    "    for prop, values in properties.items():\n",
    "        for i, value in enumerate(values):\n",
    "            property_lines.append(f\"\"\"\n",
    "          {{\n",
    "            ?movie lmdb:{prop} <{value}> .\n",
    "            BIND(\"{prop}{i}\" as ?matchedProperty)\n",
    "          }}\"\"\")\n",
    "    property_lines_combined = (\"\\nUNION\\n\").join(property_lines)\n",
    "\n",
    "    query_str = f\"\"\"\n",
    "    PREFIX lmdb: {LMDB_PREFIX}\n",
    "\n",
    "    SELECT ?movie (COUNT(DISTINCT ?matchedProperty) as ?score)\n",
    "    WHERE {{\n",
    "      ?movie a lmdb:Film .\n",
    "      {property_lines_combined}\n",
    "    }}\n",
    "    GROUP BY ?movie\n",
    "    ORDER BY DESC(?score)\n",
    "    LIMIT 15\n",
    "    \"\"\"\n",
    "\n",
    "    sparql = SPARQLWrapper(SPARQL_ENDPOINT)\n",
    "    sparql.setQuery(query_str)\n",
    "    sparql.setReturnFormat(JSON)\n",
    "    results = sparql.query().convert()\n",
    "\n",
    "    recommendations = []\n",
    "    for result in results[\"results\"][\"bindings\"]:\n",
    "        movie_id = result[\"movie\"][\"value\"].split('/')[-1]\n",
    "        score = result[\"score\"][\"value\"]\n",
    "        recommendations.append({\"movie_id\": movie_id, \"score\": score})\n",
    "\n",
    "    return recommendations"
   ],
   "metadata": {
    "collapsed": false,
    "pycharm": {
     "name": "#%%\n"
    }
   }
  },
  {
   "cell_type": "code",
   "execution_count": 118,
   "outputs": [
    {
     "data": {
      "text/plain": "{'actor': {'https://triplydb.com/Triply/linkedmdb/id/actor/27722',\n  'https://triplydb.com/Triply/linkedmdb/id/actor/40971',\n  'https://triplydb.com/Triply/linkedmdb/id/actor/59750'},\n 'director': {'https://triplydb.com/Triply/linkedmdb/id/director/2623',\n  'https://triplydb.com/Triply/linkedmdb/id/director/2624'},\n 'genre': {'https://triplydb.com/Triply/linkedmdb/id/film_genre/65'}}"
     },
     "execution_count": 118,
     "metadata": {},
     "output_type": "execute_result"
    }
   ],
   "source": [
    "movie = \"<https://triplydb.com/Triply/linkedmdb/id/film/3247>\"\n",
    "properties = get_movie_properties(movie)\n",
    "properties"
   ],
   "metadata": {
    "collapsed": false,
    "pycharm": {
     "name": "#%%\n"
    }
   }
  },
  {
   "cell_type": "code",
   "execution_count": 121,
   "outputs": [
    {
     "name": "stdout",
     "output_type": "stream",
     "text": [
      "Similar Movies:\n",
      "Movie ID: 3247, Score: 6\n",
      "Movie ID: 9002, Score: 3\n",
      "Movie ID: 26542, Score: 1\n",
      "Movie ID: 9646, Score: 1\n",
      "Movie ID: 9514, Score: 1\n",
      "Movie ID: 36461, Score: 1\n",
      "Movie ID: 21954, Score: 1\n",
      "Movie ID: 22307, Score: 1\n",
      "Movie ID: 8415, Score: 1\n",
      "Movie ID: 22561, Score: 1\n",
      "Movie ID: 23314, Score: 1\n",
      "Movie ID: 13118, Score: 1\n",
      "Movie ID: 29274, Score: 1\n",
      "Movie ID: 13653, Score: 1\n",
      "Movie ID: 11236, Score: 1\n"
     ]
    }
   ],
   "source": [
    "similar_movies = get_movie_recommendations(properties)\n",
    "\n",
    "print(\"Similar Movies:\")\n",
    "for movie in similar_movies:\n",
    "    print(f\"Movie ID: {movie['movie_id']}, Score: {movie['score']}\")"
   ],
   "metadata": {
    "collapsed": false,
    "pycharm": {
     "name": "#%%\n"
    }
   }
  }
 ],
 "metadata": {
  "kernelspec": {
   "display_name": "Python 3",
   "language": "python",
   "name": "python3"
  },
  "language_info": {
   "codemirror_mode": {
    "name": "ipython",
    "version": 2
   },
   "file_extension": ".py",
   "mimetype": "text/x-python",
   "name": "python",
   "nbconvert_exporter": "python",
   "pygments_lexer": "ipython2",
   "version": "2.7.6"
  }
 },
 "nbformat": 4,
 "nbformat_minor": 0
}